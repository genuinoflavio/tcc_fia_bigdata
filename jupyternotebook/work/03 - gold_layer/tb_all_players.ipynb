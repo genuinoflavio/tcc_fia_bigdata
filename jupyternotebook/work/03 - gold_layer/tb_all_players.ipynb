{
 "cells": [
  {
   "cell_type": "code",
   "execution_count": 1,
   "id": "8a943506-2505-4bd9-a08b-c4848873e69b",
   "metadata": {
    "tags": []
   },
   "outputs": [],
   "source": [
    "# Agrupar os jogadores em uma única tabela"
   ]
  },
  {
   "cell_type": "code",
   "execution_count": 2,
   "id": "66105337-5fde-4fcd-99d4-3530339069d9",
   "metadata": {
    "tags": []
   },
   "outputs": [],
   "source": [
    "from pyspark.sql.types import StructType\n",
    "from pyspark.sql.types import *\n",
    "from pyspark.sql import SparkSession\n",
    "from pyspark.sql.functions import *\n",
    "from pyspark.sql import DataFrame\n",
    "from pyspark.sql.streaming import DataStreamWriter\n",
    "from minio import Minio\n",
    "from delta.tables import *\n",
    "import os\n",
    "\n",
    "def minio_session_spark():\n",
    "    spark = (\n",
    "        SparkSession.builder\n",
    "            .master(\"local[*]\")\n",
    "            .appName(\"appMinIO\")\n",
    "            ### Config Fields\n",
    "            .config('spark.sql.debug.maxToStringFields', 5000)\n",
    "            .config('spark.debug.maxToStringFields', 5000)\n",
    "            ### Optimize\n",
    "            .config(\"delta.autoOptimize.optimizeWrite\", \"true\")\n",
    "            .config(\"delta.autoOptimize.autoCompact\", \"true\")\n",
    "            ### Delta Table\n",
    "            .config(\"spark.jars.packages\", \"io.delta:delta-core_2.12:2.3.0\")\n",
    "            .config(\"spark.sql.extensions\", \"io.delta.sql.DeltaSparkSessionExtension\")\n",
    "            .config(\"spark.sql.catalog.spark_catalog\", \"org.apache.spark.sql.delta.catalog.DeltaCatalog\")\n",
    "            ## MinIO\n",
    "            #.config(\"spark.hadoop.fs.s3a.endpoint\", \"http://172.20.0.2:9000\")\n",
    "             .config(\"spark.hadoop.fs.s3a.endpoint\", \"minio:9000\")\n",
    "\n",
    "            .config(\"spark.hadoop.fs.s3a.access.key\", \"tcc_user\")\n",
    "            .config(\"spark.hadoop.fs.s3a.secret.key\", \"Acnmne@a9h!\")\n",
    "            .config(\"spark.hadoop.fs.s3a.path.style.access\", \"true\")\n",
    "            .config(\"spark.hadoop.fs.s3a.impl\", \"org.apache.hadoop.fs.s3a.S3AFileSystem\")\n",
    "            .config(\"spark.hadoop.fs.s3a.connection.ssl.enabled\", \"false\")\n",
    "            ## Jars\n",
    "            .config(\"spark.jars\", \"/home/jovyan/work/jars/hadoop-common-3.3.2.jar,\\\n",
    "                                    /home/jovyan/work/jars/hadoop-aws-3.3.2.jar, \\\n",
    "                                    /home/jovyan/work/jars/aws-java-sdk-bundle-1.11.874.jar\")\n",
    "            .config('spark.hadoop.fs.s3a.aws.credentials.provider', 'org.apache.hadoop.fs.s3a.SimpleAWSCredentialsProvider')\n",
    "            .getOrCreate()\n",
    "    )\n",
    "    return spark"
   ]
  },
  {
   "cell_type": "code",
   "execution_count": 3,
   "id": "48c398f6-5162-4a07-b8cc-4aea8071076f",
   "metadata": {
    "tags": []
   },
   "outputs": [
    {
     "name": "stdout",
     "output_type": "stream",
     "text": [
      "Spark version = 3.3.2\n",
      "Hadoop version = 3.3.2\n"
     ]
    }
   ],
   "source": [
    "spark = minio_session_spark()\n",
    "\n",
    "# spark\n",
    "print(f\"Spark version = {spark.version}\")\n",
    "\n",
    "# hadoop\n",
    "print(f\"Hadoop version = {spark._jvm.org.apache.hadoop.util.VersionInfo.getVersion()}\")"
   ]
  },
  {
   "cell_type": "code",
   "execution_count": 6,
   "id": "0d964ca8-6760-4226-acbf-e65043b29d9b",
   "metadata": {
    "tags": []
   },
   "outputs": [],
   "source": [
    "# Configure Minio connection\n",
    "minio_endpoint = 'minio:9000'\n",
    "access_key = 'tcc_fia'\n",
    "secret_key = 'tcc_fia'\n",
    "secure = False  # Set to True for HTTPS\n",
    "minio_client = Minio(endpoint=minio_endpoint, access_key=access_key, secret_key=secret_key, secure=secure)\n",
    "\n",
    "# Specify the Minio bucket and path\n",
    "minio_bucket = 'silver'\n",
    "silver_tables = ['bronze_players','silver_players','gold_players','platina_players']\n",
    "\n",
    "#ALL PLAYERS\n",
    "final_df = None\n",
    "for i in range(len(silver_tables)):\n",
    "    df = (\n",
    "    spark\n",
    "    .read\n",
    "    .format('delta')\n",
    "    .load(f\"s3a://{minio_bucket}/{silver_tables[i]}\")\n",
    "    )\n",
    "    \n",
    "    # Union the dataframes\n",
    "    if final_df is None:\n",
    "        final_df = df\n",
    "    else:\n",
    "        final_df = final_df.union(df)\n",
    "        \n",
    "\n",
    "#Salvando delta table\n",
    "(\n",
    "    final_df\n",
    "    .write\n",
    "    .format(\"delta\")\n",
    "    .mode(\"overwrite\") \n",
    "    .option(\"overwriteSchema\", \"True\")\n",
    "    .save(f\"s3a://gold/\" + 'tb_all_players')\n",
    ")"
   ]
  },
  {
   "cell_type": "code",
   "execution_count": 9,
   "id": "ccf7005f-2e1e-4708-97b6-f8d98bb87586",
   "metadata": {
    "tags": []
   },
   "outputs": [
    {
     "name": "stdout",
     "output_type": "stream",
     "text": [
      "+--------+\n",
      "|    tier|\n",
      "+--------+\n",
      "|  BRONZE|\n",
      "|  SILVER|\n",
      "|    GOLD|\n",
      "|PLATINUM|\n",
      "+--------+\n",
      "\n"
     ]
    }
   ],
   "source": [
    "final_df.select('tier').distinct().show()"
   ]
  },
  {
   "cell_type": "code",
   "execution_count": null,
   "id": "49875013-6517-41d0-843a-19892109600e",
   "metadata": {},
   "outputs": [],
   "source": []
  }
 ],
 "metadata": {
  "kernelspec": {
   "display_name": "Python 3 (ipykernel)",
   "language": "python",
   "name": "python3"
  },
  "language_info": {
   "codemirror_mode": {
    "name": "ipython",
    "version": 3
   },
   "file_extension": ".py",
   "mimetype": "text/x-python",
   "name": "python",
   "nbconvert_exporter": "python",
   "pygments_lexer": "ipython3",
   "version": "3.10.10"
  }
 },
 "nbformat": 4,
 "nbformat_minor": 5
}
