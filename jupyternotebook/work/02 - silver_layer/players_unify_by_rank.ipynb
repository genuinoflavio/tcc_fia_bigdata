{
 "cells": [
  {
   "cell_type": "code",
   "execution_count": 1,
   "id": "1ce827cb-f6f8-42ed-b4ec-edb50318b577",
   "metadata": {
    "tags": []
   },
   "outputs": [],
   "source": [
    "#Delta Bronze Layer para Silver Bronze Layer\n",
    "#Agrupar todas subdivisões em uma tabela unica, exemplo, tabela players_bronze conterá todas as subdivisões"
   ]
  },
  {
   "cell_type": "code",
   "execution_count": 2,
   "id": "237d0f4d-ebe7-4b6f-a42f-14949fc4755e",
   "metadata": {
    "tags": []
   },
   "outputs": [],
   "source": [
    "from pyspark.sql.types import StructType\n",
    "from pyspark.sql.types import *\n",
    "from pyspark.sql import SparkSession\n",
    "from pyspark.sql.functions import *\n",
    "from pyspark.sql import DataFrame\n",
    "from pyspark.sql.streaming import DataStreamWriter\n",
    "from minio import Minio\n",
    "from delta.tables import *\n",
    "import os\n",
    "\n",
    "def minio_session_spark():\n",
    "    spark = (\n",
    "        SparkSession.builder\n",
    "            .master(\"local[*]\")\n",
    "            .appName(\"appMinIO\")\n",
    "            ### Config Fields\n",
    "            .config('spark.sql.debug.maxToStringFields', 5000)\n",
    "            .config('spark.debug.maxToStringFields', 5000)\n",
    "            ### Optimize\n",
    "            .config(\"delta.autoOptimize.optimizeWrite\", \"true\")\n",
    "            .config(\"delta.autoOptimize.autoCompact\", \"true\")\n",
    "            ### Delta Table\n",
    "            .config(\"spark.jars.packages\", \"io.delta:delta-core_2.12:2.3.0\")\n",
    "            .config(\"spark.sql.extensions\", \"io.delta.sql.DeltaSparkSessionExtension\")\n",
    "            .config(\"spark.sql.catalog.spark_catalog\", \"org.apache.spark.sql.delta.catalog.DeltaCatalog\")\n",
    "            ## MinIO\n",
    "            #.config(\"spark.hadoop.fs.s3a.endpoint\", \"http://172.20.0.2:9000\")\n",
    "             .config(\"spark.hadoop.fs.s3a.endpoint\", \"minio:9000\")\n",
    "\n",
    "            .config(\"spark.hadoop.fs.s3a.access.key\", \"tcc_user\")\n",
    "            .config(\"spark.hadoop.fs.s3a.secret.key\", \"Acnmne@a9h!\")\n",
    "            .config(\"spark.hadoop.fs.s3a.path.style.access\", \"true\")\n",
    "            .config(\"spark.hadoop.fs.s3a.impl\", \"org.apache.hadoop.fs.s3a.S3AFileSystem\")\n",
    "            .config(\"spark.hadoop.fs.s3a.connection.ssl.enabled\", \"false\")\n",
    "            ## Jars\n",
    "            .config(\"spark.jars\", \"/home/jovyan/work/jars/hadoop-common-3.3.2.jar,\\\n",
    "                                    /home/jovyan/work/jars/hadoop-aws-3.3.2.jar, \\\n",
    "                                    /home/jovyan/work/jars/aws-java-sdk-bundle-1.11.874.jar\")\n",
    "            .config('spark.hadoop.fs.s3a.aws.credentials.provider', 'org.apache.hadoop.fs.s3a.SimpleAWSCredentialsProvider')\n",
    "            .getOrCreate()\n",
    "    )\n",
    "    return spark"
   ]
  },
  {
   "cell_type": "code",
   "execution_count": 3,
   "id": "191549aa-665a-475e-9d44-7bec813d9404",
   "metadata": {
    "tags": []
   },
   "outputs": [
    {
     "name": "stdout",
     "output_type": "stream",
     "text": [
      "Spark version = 3.3.2\n",
      "Hadoop version = 3.3.2\n"
     ]
    }
   ],
   "source": [
    "spark = minio_session_spark()\n",
    "\n",
    "# spark\n",
    "print(f\"Spark version = {spark.version}\")\n",
    "\n",
    "# hadoop\n",
    "print(f\"Hadoop version = {spark._jvm.org.apache.hadoop.util.VersionInfo.getVersion()}\")"
   ]
  },
  {
   "cell_type": "code",
   "execution_count": 5,
   "id": "79cf4f63-57e5-4591-a52a-fd7e1a773c61",
   "metadata": {
    "tags": []
   },
   "outputs": [],
   "source": [
    "# Configure Minio connection\n",
    "minio_endpoint = 'minio:9000'\n",
    "access_key = 'tcc_fia'\n",
    "secret_key = 'tcc_fia_2024'\n",
    "secure = False  # Set to True for HTTPS\n",
    "minio_client = Minio(endpoint=minio_endpoint, access_key=access_key, secret_key=secret_key, secure=secure)\n",
    "\n",
    "# Specify the Minio bucket and path\n",
    "minio_bucket = 'bronze'\n",
    "minio_path_bronze_players = ['bronze_I/', 'bronze_II/','bronze_III/','bronze_IV/']\n",
    "# minio_path_silver_players = ['silver_I/', 'silver_II/','silver_III/','silver_IV/']\n",
    "# minio_path_ouro_players = ['gold_I/', 'gold_II/','gold_III/','gold_IV/']\n",
    "# minio_path_platina_players = ['platinum_I/', 'platinum_II/','platinum_III/','platinum_IV/']\n",
    "# minio_path_esmeralda_players = ['emerald_I/', 'emerald_II/','emerald_III/','emerald_IV/']\n",
    "# minio_path_diamante_players = ['diamond_I/', 'diamond_II/','diamond_III/','diamond_IV/']"
   ]
  },
  {
   "cell_type": "code",
   "execution_count": 23,
   "id": "561edf09-cf98-4b7f-9324-a9a7353096f4",
   "metadata": {
    "tags": []
   },
   "outputs": [
    {
     "name": "stdout",
     "output_type": "stream",
     "text": [
      "+----------+---------+--------+--------------------+------------+------+---------------+----+--------------------+------+-------+----+\n",
      "|freshBlood|hotStreak|inactive|            leagueId|leaguePoints|losses|      queueType|rank|          summonerId|  tier|veteran|wins|\n",
      "+----------+---------+--------+--------------------+------------+------+---------------+----+--------------------+------+-------+----+\n",
      "|     false|     true|   false|f5526c78-08f1-438...|          67|     7|RANKED_SOLO_5x5|   I|3XiEGneD0XOL_w4Zv...|BRONZE|  false|  11|\n",
      "|     false|    false|   false|f5108b66-535b-4ee...|          46|     9|RANKED_SOLO_5x5|   I|lNVCHVKkFMAsJeqA1...|BRONZE|  false|   9|\n",
      "|     false|    false|   false|0d42becf-d119-4a1...|          64|     9|RANKED_SOLO_5x5|   I|-tGpNqAEWg87IsP27...|BRONZE|  false|  11|\n",
      "|     false|    false|   false|f2dc4e41-d375-4d9...|          30|     2|RANKED_SOLO_5x5|   I|hhp0oCwIfVEcUAP6G...|BRONZE|  false|   4|\n",
      "|      true|    false|   false|eb6870ad-26c9-451...|          93|    24|RANKED_SOLO_5x5|   I|6bNVDmgS0ir0PE9V3...|BRONZE|  false|  25|\n",
      "|     false|    false|   false|400809e0-4eaf-453...|          48|     6|RANKED_SOLO_5x5|   I|QZlMdJ0WY5lsdPqgG...|BRONZE|  false|   5|\n",
      "|     false|    false|   false|9692f596-7450-484...|          93|     5|RANKED_SOLO_5x5|   I|9oQCBYTTkrjSKVx_q...|BRONZE|  false|   3|\n",
      "|     false|    false|   false|ad9ce783-562c-45c...|           5|    13|RANKED_SOLO_5x5|   I|fDCficmPpN9qsBQo_...|BRONZE|  false|  11|\n",
      "|     false|    false|   false|254b590c-e683-41a...|          76|     4|RANKED_SOLO_5x5|   I|0WT5IGqVIyOF5oNRG...|BRONZE|  false|   1|\n",
      "|     false|    false|   false|b062e3cc-fb03-4d3...|          21|    22|RANKED_SOLO_5x5|   I|GVYExVvwAOBMC6DHY...|BRONZE|  false|  35|\n",
      "|     false|     true|   false|db493afc-ed30-47b...|          90|    16|RANKED_SOLO_5x5|   I|qC7mjkixHBGLj3MeC...|BRONZE|  false|  17|\n",
      "|     false|    false|   false|734225ce-820a-4b2...|           6|    38|RANKED_SOLO_5x5|   I|wAYaNq6OGQCHqvlx5...|BRONZE|  false|  21|\n",
      "|     false|     true|   false|a8eb492f-d191-4b2...|          48|    21|RANKED_SOLO_5x5|   I|PET3XJMXBJLV9abtq...|BRONZE|  false|  28|\n",
      "|     false|    false|   false|cf3374e9-fed7-427...|          29|    13|RANKED_SOLO_5x5|   I|pT5z3fHDvcLtZFzjn...|BRONZE|  false|  17|\n",
      "|      true|    false|   false|20ee9cfb-e7ad-42e...|          57|    70|RANKED_SOLO_5x5|   I|upoTWcMzqE3-RDCVt...|BRONZE|  false|  70|\n",
      "|     false|    false|   false|e676411a-db7d-422...|          18|     2|RANKED_SOLO_5x5|   I|ogpwpm6Ljk5lYvWAq...|BRONZE|  false|  10|\n",
      "|     false|    false|   false|b4a9be42-19da-480...|          14|     4|RANKED_SOLO_5x5|   I|E223L4Lzj9bimfO47...|BRONZE|  false|   2|\n",
      "|     false|    false|   false|61257025-49bc-4e2...|          61|     5|RANKED_SOLO_5x5|   I|zD_QUAKxdTNw4Skkz...|BRONZE|  false|   1|\n",
      "|     false|    false|   false|54575742-ef8e-4d8...|          40|     3|RANKED_SOLO_5x5|   I|A88c_TPvjk6Frt1lr...|BRONZE|  false|   6|\n",
      "|     false|     true|   false|bebcd82f-d6c8-493...|          42|     3|RANKED_SOLO_5x5|   I|R0AMVoDLvTLhcNtz3...|BRONZE|  false|  14|\n",
      "+----------+---------+--------+--------------------+------------+------+---------------+----+--------------------+------+-------+----+\n",
      "only showing top 20 rows\n",
      "\n"
     ]
    }
   ],
   "source": [
    "df = (\n",
    "        spark\n",
    "        .read\n",
    "        .format('delta')\n",
    "        .load(f\"s3a://{minio_bucket}/{minio_path_bronze_players[0]}\")\n",
    ")\n",
    "# print(len(df.columns))\n",
    "# df.columns\n",
    "df.show()"
   ]
  },
  {
   "cell_type": "code",
   "execution_count": 19,
   "id": "873031e8-d6f6-410f-b832-6cba9a8e287b",
   "metadata": {
    "tags": []
   },
   "outputs": [
    {
     "name": "stdout",
     "output_type": "stream",
     "text": [
      "13\n"
     ]
    },
    {
     "data": {
      "text/plain": [
       "['freshBlood',\n",
       " 'hotStreak',\n",
       " 'inactive',\n",
       " 'leagueId',\n",
       " 'leaguePoints',\n",
       " 'losses',\n",
       " 'queueType',\n",
       " 'rank',\n",
       " 'summonerId',\n",
       " 'summonerName',\n",
       " 'tier',\n",
       " 'veteran',\n",
       " 'wins']"
      ]
     },
     "execution_count": 19,
     "metadata": {},
     "output_type": "execute_result"
    }
   ],
   "source": [
    "df = (\n",
    "        spark\n",
    "        .read\n",
    "        .format('delta')\n",
    "        .load(f\"s3a://{minio_bucket}/{minio_path_bronze_players[1]}\")\n",
    ")\n",
    "print(len(df.columns))\n",
    "df.columns"
   ]
  },
  {
   "cell_type": "code",
   "execution_count": 20,
   "id": "801504b6-48b0-4b39-ba69-0c8df609448c",
   "metadata": {
    "tags": []
   },
   "outputs": [
    {
     "name": "stdout",
     "output_type": "stream",
     "text": [
      "13\n"
     ]
    },
    {
     "data": {
      "text/plain": [
       "['freshBlood',\n",
       " 'hotStreak',\n",
       " 'inactive',\n",
       " 'leagueId',\n",
       " 'leaguePoints',\n",
       " 'losses',\n",
       " 'queueType',\n",
       " 'rank',\n",
       " 'summonerId',\n",
       " 'summonerName',\n",
       " 'tier',\n",
       " 'veteran',\n",
       " 'wins']"
      ]
     },
     "execution_count": 20,
     "metadata": {},
     "output_type": "execute_result"
    }
   ],
   "source": [
    "df = (\n",
    "        spark\n",
    "        .read\n",
    "        .format('delta')\n",
    "        .load(f\"s3a://{minio_bucket}/{minio_path_bronze_players[2]}\")\n",
    ")\n",
    "print(len(df.columns))\n",
    "df.columns"
   ]
  },
  {
   "cell_type": "code",
   "execution_count": 21,
   "id": "2a1f6f02-a0e1-4b12-af86-15cfbe9b649c",
   "metadata": {
    "tags": []
   },
   "outputs": [
    {
     "name": "stdout",
     "output_type": "stream",
     "text": [
      "13\n"
     ]
    },
    {
     "data": {
      "text/plain": [
       "['freshBlood',\n",
       " 'hotStreak',\n",
       " 'inactive',\n",
       " 'leagueId',\n",
       " 'leaguePoints',\n",
       " 'losses',\n",
       " 'queueType',\n",
       " 'rank',\n",
       " 'summonerId',\n",
       " 'summonerName',\n",
       " 'tier',\n",
       " 'veteran',\n",
       " 'wins']"
      ]
     },
     "execution_count": 21,
     "metadata": {},
     "output_type": "execute_result"
    }
   ],
   "source": [
    "df = (\n",
    "        spark\n",
    "        .read\n",
    "        .format('delta')\n",
    "        .load(f\"s3a://{minio_bucket}/{minio_path_bronze_players[3]}\")\n",
    ")\n",
    "print(len(df.columns))\n",
    "df.columns"
   ]
  },
  {
   "cell_type": "code",
   "execution_count": 21,
   "id": "a9835e52-3274-4353-9442-dfc528220936",
   "metadata": {
    "tags": []
   },
   "outputs": [],
   "source": [
    "#BRONZE PLAYERS\n",
    "final_df = None\n",
    "for i in range(len(minio_path_bronze_players)):\n",
    "    df = (\n",
    "    spark\n",
    "    .read\n",
    "    .format('delta')\n",
    "    .load(f\"s3a://{minio_bucket}/{minio_path_silver_players[i]}\")\n",
    "    )\n",
    "\n",
    "    # Union the dataframes\n",
    "    if final_df is None:\n",
    "        final_df = df\n",
    "    else:\n",
    "        final_df = final_df.union(df)\n",
    "        \n",
    "#Salvando delta table\n",
    "(\n",
    "    final_df\n",
    "    .write\n",
    "    .format(\"delta\")\n",
    "    .mode(\"overwrite\") \n",
    "    .option(\"overwriteSchema\", \"True\")\n",
    "    .save(f\"s3a://silver/\" + 'bronze_players')\n",
    ")"
   ]
  },
  {
   "cell_type": "code",
   "execution_count": 18,
   "id": "d694e206-b559-4c65-af54-b6b1ff0c2eaf",
   "metadata": {
    "tags": []
   },
   "outputs": [
    {
     "name": "stdout",
     "output_type": "stream",
     "text": [
      "+----+\n",
      "|rank|\n",
      "+----+\n",
      "|   I|\n",
      "|  II|\n",
      "| III|\n",
      "|  IV|\n",
      "+----+\n",
      "\n"
     ]
    }
   ],
   "source": []
  },
  {
   "cell_type": "code",
   "execution_count": null,
   "id": "29ff3ea1-a198-4511-9b7f-115476df47b9",
   "metadata": {},
   "outputs": [],
   "source": []
  }
 ],
 "metadata": {
  "kernelspec": {
   "display_name": "Python 3 (ipykernel)",
   "language": "python",
   "name": "python3"
  },
  "language_info": {
   "codemirror_mode": {
    "name": "ipython",
    "version": 3
   },
   "file_extension": ".py",
   "mimetype": "text/x-python",
   "name": "python",
   "nbconvert_exporter": "python",
   "pygments_lexer": "ipython3",
   "version": "3.10.10"
  }
 },
 "nbformat": 4,
 "nbformat_minor": 5
}
