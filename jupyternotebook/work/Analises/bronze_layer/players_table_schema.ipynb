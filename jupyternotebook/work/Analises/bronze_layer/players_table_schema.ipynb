{
 "cells": [
  {
   "cell_type": "code",
   "execution_count": 4,
   "id": "8c7cb463-39d5-40b2-ac2e-119d15a2eece",
   "metadata": {
    "tags": []
   },
   "outputs": [],
   "source": [
    "from pyspark.sql.types import StructType\n",
    "from pyspark.sql.types import *\n",
    "from pyspark.sql import SparkSession\n",
    "# from pyspark.sql.functions import *\n",
    "import pyspark.sql.functions as F\n",
    "from pyspark.sql import DataFrame\n",
    "from pyspark.sql.streaming import DataStreamWriter\n",
    "from minio import Minio\n",
    "from datetime import timedelta\n",
    "from delta.tables import *\n",
    "import os\n",
    "\n",
    "def minio_session_spark():\n",
    "    spark = (\n",
    "        SparkSession.builder\n",
    "            .master(\"local[*]\")\n",
    "            .appName(\"appMinIO\")\n",
    "            ### Config Fields\n",
    "            .config('spark.sql.debug.maxToStringFields', 5000)\n",
    "            .config('spark.debug.maxToStringFields', 5000)\n",
    "            ### Optimize\n",
    "            .config(\"delta.autoOptimize.optimizeWrite\", \"true\")\n",
    "            .config(\"delta.autoOptimize.autoCompact\", \"true\")\n",
    "            ### Delta Table\n",
    "            .config(\"spark.jars.packages\", \"io.delta:delta-core_2.12:2.3.0\")\n",
    "            .config(\"spark.sql.extensions\", \"io.delta.sql.DeltaSparkSessionExtension\")\n",
    "            .config(\"spark.sql.catalog.spark_catalog\", \"org.apache.spark.sql.delta.catalog.DeltaCatalog\")\n",
    "            ## MinIO\n",
    "            #.config(\"spark.hadoop.fs.s3a.endpoint\", \"http://172.20.0.2:9000\")\n",
    "             .config(\"spark.hadoop.fs.s3a.endpoint\", \"minio:9000\")\n",
    "\n",
    "            .config(\"spark.hadoop.fs.s3a.access.key\", \"tcc_user\")\n",
    "            .config(\"spark.hadoop.fs.s3a.secret.key\", \"Acnmne@a9h!\")\n",
    "            .config(\"spark.hadoop.fs.s3a.path.style.access\", \"true\")\n",
    "            .config(\"spark.hadoop.fs.s3a.impl\", \"org.apache.hadoop.fs.s3a.S3AFileSystem\")\n",
    "            .config(\"spark.hadoop.fs.s3a.connection.ssl.enabled\", \"false\")\n",
    "            ## Jars\n",
    "            .config(\"spark.jars\", \"/home/jovyan/work/jars/hadoop-common-3.3.2.jar,\\\n",
    "                                    /home/jovyan/work/jars/hadoop-aws-3.3.2.jar, \\\n",
    "                                    /home/jovyan/work/jars/aws-java-sdk-bundle-1.11.874.jar\")\n",
    "            .config('spark.hadoop.fs.s3a.aws.credentials.provider', 'org.apache.hadoop.fs.s3a.SimpleAWSCredentialsProvider')\n",
    "            .getOrCreate()\n",
    "    )\n",
    "    return spark"
   ]
  },
  {
   "cell_type": "code",
   "execution_count": 5,
   "id": "1b565af7-d7a2-43a6-bb32-236418460689",
   "metadata": {
    "tags": []
   },
   "outputs": [],
   "source": [
    "spark = minio_session_spark()\n",
    "\n",
    "# # spark\n",
    "# print(f\"Spark version = {spark.version}\")\n",
    "\n",
    "# # hadoop\n",
    "# print(f\"Hadoop version = {spark._jvm.org.apache.hadoop.util.VersionInfo.getVersion()}\")"
   ]
  },
  {
   "cell_type": "code",
   "execution_count": 7,
   "id": "bbbd7e3e-cd92-4595-8fdf-8a777a19f63a",
   "metadata": {
    "tags": []
   },
   "outputs": [],
   "source": [
    "rank = 'bronze_I'\n",
    "df = (\n",
    "spark\n",
    "    .read\n",
    "    .format('delta')\n",
    "    .load(f\"s3a://bronze/{rank}\")\n",
    ")\n"
   ]
  },
  {
   "cell_type": "code",
   "execution_count": 8,
   "id": "0d334db2-df2e-44e5-89f7-2a8e3f3c5574",
   "metadata": {
    "tags": []
   },
   "outputs": [
    {
     "name": "stdout",
     "output_type": "stream",
     "text": [
      "+----------+---------+--------+--------------------+------------+------+---------------+----+--------------------+----------------+------+-------+----+\n",
      "|freshBlood|hotStreak|inactive|            leagueId|leaguePoints|losses|      queueType|rank|          summonerId|    summonerName|  tier|veteran|wins|\n",
      "+----------+---------+--------+--------------------+------------+------+---------------+----+--------------------+----------------+------+-------+----+\n",
      "|     false|    false|   false|376a45f8-a14c-4d3...|           0|    38|RANKED_SOLO_5x5|  IV|GwRX5Jkw2zFpg7hIl...|     WithoutThis|BRONZE|  false|  31|\n",
      "|     false|    false|   false|eac48c8f-272d-436...|           0|     8|RANKED_SOLO_5x5|  IV|cQ7c13ftchM_c1eFF...|          Guimzt|BRONZE|  false|   3|\n",
      "|     false|    false|   false|cdf4380e-1acc-463...|           7|   117|RANKED_SOLO_5x5|  IV|Ol-0E7znQLBW6NYpP...|        ciprand1|BRONZE|  false| 127|\n",
      "|     false|    false|   false|62bf8d69-beb0-4ae...|           0|    81|RANKED_SOLO_5x5|  IV|8bNpcw9NdLIOua75y...|    I am Berserk|BRONZE|  false|  83|\n",
      "|     false|    false|   false|22b320bc-e671-4a7...|           0|     7|RANKED_SOLO_5x5|  IV|q1vNHujZmmSSHjgv7...|   VitinMaladeza|BRONZE|  false|   2|\n",
      "|     false|    false|   false|22b320bc-e671-4a7...|          15|    10|RANKED_SOLO_5x5|  IV|XlY3rigOHSfHbE_pM...|     bornboquita|BRONZE|  false|   6|\n",
      "|     false|    false|   false|b5e76a49-4418-4da...|          59|     8|RANKED_SOLO_5x5|  IV|RP8_CKyRD09CSTC-U...|       CPTSeixas|BRONZE|  false|   2|\n",
      "|     false|    false|   false|3cef8aa0-9df1-48b...|           0|   106|RANKED_SOLO_5x5|  IV|Sq80XHuedrTsVcBs-...|O Rei Dos Trolls|BRONZE|  false|  88|\n",
      "|     false|    false|   false|06da0378-0d95-46d...|          57|    64|RANKED_SOLO_5x5|  IV|Yet7PF9y5YJwdEG4Q...|roll d100 sanity|BRONZE|  false|  60|\n",
      "|     false|     true|   false|0fb15aae-4f31-4fa...|          93|     1|RANKED_SOLO_5x5|  IV|F5lQLuUqp7F8lv65c...|       Heerodark|BRONZE|  false|   5|\n",
      "|     false|     true|   false|69fa79e6-6dfc-427...|          73|    11|RANKED_SOLO_5x5|  IV|KTm1HYOg2pNAwlRc2...|     Alma Frifas|BRONZE|  false|  22|\n",
      "|     false|    false|   false|34fde0f7-6834-4c4...|          47|     4|RANKED_SOLO_5x5|  IV|i3hXDDjt1mdXubovH...|        Ganáncia|BRONZE|  false|   7|\n",
      "|     false|    false|   false|6ffc0750-6148-4f3...|           0|    16|RANKED_SOLO_5x5|  IV|CeRKBn84wsPV8brJl...|  Fervor Sagrad0|BRONZE|  false|  21|\n",
      "|     false|    false|   false|482cf2c5-b19d-4d9...|          21|     6|RANKED_SOLO_5x5|  IV|DxMOWwVbTq_Hx856V...|        Greta Ye|BRONZE|  false|   1|\n",
      "|     false|     true|   false|3f844b9d-b7dc-4b8...|          80|    30|RANKED_SOLO_5x5|  IV|dEVf9w2RoF80XxP9M...|            CM7K|BRONZE|  false|  25|\n",
      "|     false|    false|   false|68942f3c-2494-4ac...|           0|    34|RANKED_SOLO_5x5|  IV|_YQuupLd00xBWgAwQ...|  Eurico Alucard|BRONZE|  false|  28|\n",
      "|     false|    false|   false|a47179eb-7fcc-4c2...|          90|     5|RANKED_SOLO_5x5|  IV|JpyktVQTWLQCQG-a0...|I still love hër|BRONZE|  false|   4|\n",
      "|     false|    false|   false|82a8653e-4d6b-4b0...|          25|    32|RANKED_SOLO_5x5|  IV|4OyNsgjJLwF5vmedn...|    l  Letcat  l|BRONZE|  false|  16|\n",
      "|     false|    false|   false|9b5651e5-dbae-433...|           0|    14|RANKED_SOLO_5x5|  IV|7SCpx_fVX2_fq7cS0...|   Doidinha Dele|BRONZE|  false|   4|\n",
      "|     false|    false|   false|467f02c6-0213-4e5...|           0|    15|RANKED_SOLO_5x5|  IV|F9CsTGAQirMiFmu-_...|        SickBoy7|BRONZE|  false|  16|\n",
      "+----------+---------+--------+--------------------+------------+------+---------------+----+--------------------+----------------+------+-------+----+\n",
      "only showing top 20 rows\n",
      "\n"
     ]
    }
   ],
   "source": [
    "df.show()"
   ]
  },
  {
   "cell_type": "code",
   "execution_count": 9,
   "id": "a2081c3f-3c01-41dc-a739-2807f22488ac",
   "metadata": {
    "tags": []
   },
   "outputs": [
    {
     "data": {
      "text/plain": [
       "[('freshBlood', 'boolean'),\n",
       " ('hotStreak', 'boolean'),\n",
       " ('inactive', 'boolean'),\n",
       " ('leagueId', 'string'),\n",
       " ('leaguePoints', 'bigint'),\n",
       " ('losses', 'bigint'),\n",
       " ('queueType', 'string'),\n",
       " ('rank', 'string'),\n",
       " ('summonerId', 'string'),\n",
       " ('summonerName', 'string'),\n",
       " ('tier', 'string'),\n",
       " ('veteran', 'boolean'),\n",
       " ('wins', 'bigint')]"
      ]
     },
     "execution_count": 9,
     "metadata": {},
     "output_type": "execute_result"
    }
   ],
   "source": [
    "df.dtypes"
   ]
  },
  {
   "cell_type": "code",
   "execution_count": null,
   "id": "fc8a76dc-525d-4a96-89c0-730c1f866ec2",
   "metadata": {},
   "outputs": [],
   "source": []
  }
 ],
 "metadata": {
  "kernelspec": {
   "display_name": "Python 3 (ipykernel)",
   "language": "python",
   "name": "python3"
  },
  "language_info": {
   "codemirror_mode": {
    "name": "ipython",
    "version": 3
   },
   "file_extension": ".py",
   "mimetype": "text/x-python",
   "name": "python",
   "nbconvert_exporter": "python",
   "pygments_lexer": "ipython3",
   "version": "3.10.10"
  }
 },
 "nbformat": 4,
 "nbformat_minor": 5
}
