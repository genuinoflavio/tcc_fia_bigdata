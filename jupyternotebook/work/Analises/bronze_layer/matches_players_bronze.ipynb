{
 "cells": [
  {
   "cell_type": "code",
   "execution_count": 1,
   "id": "5ee7bcde-37cc-484c-8538-b79ed06fc6c5",
   "metadata": {
    "tags": []
   },
   "outputs": [],
   "source": [
    "from pyspark.sql.types import StructType\n",
    "from pyspark.sql.types import *\n",
    "from pyspark.sql import SparkSession\n",
    "# from pyspark.sql.functions import *\n",
    "import pyspark.sql.functions as F\n",
    "from pyspark.sql import DataFrame\n",
    "from pyspark.sql.streaming import DataStreamWriter\n",
    "from minio import Minio\n",
    "from datetime import timedelta\n",
    "from delta.tables import *\n",
    "import os\n",
    "from pyspark.sql.window import Window\n",
    "import re\n",
    "\n",
    "def minio_session_spark():\n",
    "    spark = (\n",
    "        SparkSession.builder\n",
    "            .master(\"local[*]\")\n",
    "            .appName(\"appMinIO\")\n",
    "            ### Config Fields\n",
    "            .config('spark.sql.debug.maxToStringFields', 5000)\n",
    "            .config('spark.debug.maxToStringFields', 5000)\n",
    "            ### Optimize\n",
    "            .config(\"delta.autoOptimize.optimizeWrite\", \"true\")\n",
    "            .config(\"delta.autoOptimize.autoCompact\", \"true\")\n",
    "            ### Delta Table\n",
    "            .config(\"spark.jars.packages\", \"io.delta:delta-core_2.12:2.3.0\")\n",
    "            .config(\"spark.sql.extensions\", \"io.delta.sql.DeltaSparkSessionExtension\")\n",
    "            .config(\"spark.sql.catalog.spark_catalog\", \"org.apache.spark.sql.delta.catalog.DeltaCatalog\")\n",
    "            ## MinIO\n",
    "            #.config(\"spark.hadoop.fs.s3a.endpoint\", \"http://172.20.0.2:9000\")\n",
    "             .config(\"spark.hadoop.fs.s3a.endpoint\", \"minio:9000\")\n",
    "\n",
    "            .config(\"spark.hadoop.fs.s3a.access.key\", \"tcc_user\")\n",
    "            .config(\"spark.hadoop.fs.s3a.secret.key\", \"Acnmne@a9h!\")\n",
    "            .config(\"spark.hadoop.fs.s3a.path.style.access\", \"true\")\n",
    "            .config(\"spark.hadoop.fs.s3a.impl\", \"org.apache.hadoop.fs.s3a.S3AFileSystem\")\n",
    "            .config(\"spark.hadoop.fs.s3a.connection.ssl.enabled\", \"false\")\n",
    "            ## Jars\n",
    "            .config(\"spark.jars\", \"/home/jovyan/work/jars/hadoop-common-3.3.2.jar,\\\n",
    "                                    /home/jovyan/work/jars/hadoop-aws-3.3.2.jar, \\\n",
    "                                    /home/jovyan/work/jars/aws-java-sdk-bundle-1.11.874.jar\")\n",
    "            .config('spark.hadoop.fs.s3a.aws.credentials.provider', 'org.apache.hadoop.fs.s3a.SimpleAWSCredentialsProvider')\n",
    "            .getOrCreate()\n",
    "    )\n",
    "    return spark"
   ]
  },
  {
   "cell_type": "code",
   "execution_count": 2,
   "id": "7d77400d-8da9-4125-971c-31a0a0b89ff8",
   "metadata": {
    "tags": []
   },
   "outputs": [],
   "source": [
    "spark = minio_session_spark()"
   ]
  },
  {
   "cell_type": "code",
   "execution_count": 4,
   "id": "9015c602-206e-4d45-ac50-514b781c4c5e",
   "metadata": {
    "tags": []
   },
   "outputs": [],
   "source": [
    "#MINIO CONFIGS\n",
    "minio_endpoint = 'minio:9000'\n",
    "minio_access_key = 'tcc_fia'\n",
    "minio_secret_key = 'tcc_fia_2024'\n",
    "secure = False  \n",
    "minio_client = Minio(endpoint=minio_endpoint, access_key=minio_access_key, secret_key=minio_secret_key, secure=secure)"
   ]
  },
  {
   "cell_type": "code",
   "execution_count": 5,
   "id": "60f2694b-8df5-4c05-ae84-51454cc271f7",
   "metadata": {
    "tags": []
   },
   "outputs": [],
   "source": [
    "minio_bucket = 'raw'\n",
    "prefix = 'matchs/'"
   ]
  },
  {
   "cell_type": "code",
   "execution_count": null,
   "id": "7af23eef-ded6-43b2-98d9-6645925dbc34",
   "metadata": {},
   "outputs": [],
   "source": [
    "objects = minio_client.list_objects(minio_bucket, prefix=folder)\n",
    "json_files = [f\"s3a://{minio_bucket}/{obj.object_name}\" for obj in objects]\n",
    "pattern = re.compile(f'{tier}')\n",
    "filtered_json = [path for path in json_files if pattern.search(path)]\n",
    "print('LISTA FILTRADA PARA O TIER: {filtered_json}')\n",
    "df = spark.read.json(filtered_json[0:])"
   ]
  },
  {
   "cell_type": "code",
   "execution_count": 6,
   "id": "19c60585-7768-4bf0-a4ed-a34f0986c758",
   "metadata": {
    "tags": []
   },
   "outputs": [],
   "source": [
    "objects = minio_client.list_objects(minio_bucket, prefix=prefix)\n",
    "json_files = [f\"s3a://{minio_bucket}/{obj.object_name}\" for obj in objects]"
   ]
  },
  {
   "cell_type": "code",
   "execution_count": 7,
   "id": "9b53473d-b0dc-4037-b6f6-33bcf0024ebb",
   "metadata": {
    "tags": []
   },
   "outputs": [
    {
     "data": {
      "text/plain": [
       "['s3a://raw/matchs/',\n",
       " 's3a://raw/matchs/bronze_BR1_2946682948.json',\n",
       " 's3a://raw/matchs/bronze_BR1_2946697589.json',\n",
       " 's3a://raw/matchs/bronze_BR1_2954036635.json',\n",
       " 's3a://raw/matchs/gold_BR1_2945378663.json',\n",
       " 's3a://raw/matchs/gold_BR1_2945399069.json',\n",
       " 's3a://raw/matchs/gold_BR1_2945710981.json',\n",
       " 's3a://raw/matchs/gold_BR1_2946653050.json',\n",
       " 's3a://raw/matchs/gold_BR1_2946661734.json',\n",
       " 's3a://raw/matchs/gold_BR1_2947047636.json',\n",
       " 's3a://raw/matchs/gold_BR1_2947061773.json',\n",
       " 's3a://raw/matchs/gold_BR1_2947071535.json',\n",
       " 's3a://raw/matchs/gold_BR1_2947075721.json',\n",
       " 's3a://raw/matchs/gold_BR1_2947093158.json',\n",
       " 's3a://raw/matchs/gold_BR1_2947106151.json',\n",
       " 's3a://raw/matchs/gold_BR1_2947336995.json',\n",
       " 's3a://raw/matchs/gold_BR1_2947350585.json',\n",
       " 's3a://raw/matchs/gold_BR1_2947363819.json',\n",
       " 's3a://raw/matchs/gold_BR1_2947660645.json',\n",
       " 's3a://raw/matchs/gold_BR1_2947671000.json',\n",
       " 's3a://raw/matchs/gold_BR1_2947687026.json',\n",
       " 's3a://raw/matchs/gold_BR1_2948718613.json',\n",
       " 's3a://raw/matchs/gold_BR1_2948736639.json',\n",
       " 's3a://raw/matchs/gold_BR1_2948913994.json',\n",
       " 's3a://raw/matchs/gold_BR1_2948932022.json',\n",
       " 's3a://raw/matchs/gold_BR1_2949185832.json',\n",
       " 's3a://raw/matchs/gold_BR1_2949197318.json',\n",
       " 's3a://raw/matchs/gold_BR1_2949214097.json',\n",
       " 's3a://raw/matchs/gold_BR1_2949222875.json',\n",
       " 's3a://raw/matchs/gold_BR1_2949226526.json',\n",
       " 's3a://raw/matchs/gold_BR1_2949240602.json',\n",
       " 's3a://raw/matchs/gold_BR1_2949246588.json',\n",
       " 's3a://raw/matchs/gold_BR1_2949542572.json',\n",
       " 's3a://raw/matchs/gold_BR1_2949567029.json',\n",
       " 's3a://raw/matchs/gold_BR1_2950228147.json',\n",
       " 's3a://raw/matchs/gold_BR1_2950242682.json',\n",
       " 's3a://raw/matchs/gold_BR1_2950854284.json',\n",
       " 's3a://raw/matchs/gold_BR1_2952219829.json',\n",
       " 's3a://raw/matchs/gold_BR1_2952249217.json',\n",
       " 's3a://raw/matchs/gold_BR1_2953816141.json',\n",
       " 's3a://raw/matchs/gold_BR1_2953822982.json',\n",
       " 's3a://raw/matchs/gold_BR1_2954116973.json',\n",
       " 's3a://raw/matchs/gold_BR1_2954147181.json',\n",
       " 's3a://raw/matchs/gold_BR1_2954158573.json',\n",
       " 's3a://raw/matchs/gold_BR1_2954944968.json',\n",
       " 's3a://raw/matchs/gold_BR1_2954974380.json',\n",
       " 's3a://raw/matchs/gold_BR1_2954987739.json',\n",
       " 's3a://raw/matchs/gold_BR1_2955792687.json',\n",
       " 's3a://raw/matchs/platina_BR1_2949358992.json',\n",
       " 's3a://raw/matchs/platina_BR1_2953849083.json',\n",
       " 's3a://raw/matchs/platina_BR1_2953857560.json',\n",
       " 's3a://raw/matchs/platina_BR1_2953863774.json',\n",
       " 's3a://raw/matchs/platina_BR1_2953877537.json',\n",
       " 's3a://raw/matchs/platina_BR1_2953888123.json',\n",
       " 's3a://raw/matchs/platina_BR1_2953897123.json',\n",
       " 's3a://raw/matchs/platina_BR1_2953903077.json',\n",
       " 's3a://raw/matchs/platina_BR1_2954634333.json',\n",
       " 's3a://raw/matchs/platina_BR1_2954645248.json',\n",
       " 's3a://raw/matchs/platina_BR1_2954652336.json',\n",
       " 's3a://raw/matchs/platina_BR1_2954659138.json',\n",
       " 's3a://raw/matchs/platina_BR1_2954663893.json',\n",
       " 's3a://raw/matchs/platina_BR1_2955318163.json',\n",
       " 's3a://raw/matchs/platina_BR1_2955329347.json',\n",
       " 's3a://raw/matchs/platina_BR1_2955336511.json',\n",
       " 's3a://raw/matchs/platina_BR1_2955339981.json',\n",
       " 's3a://raw/matchs/platina_BR1_2955346646.json',\n",
       " 's3a://raw/matchs/platina_BR1_2955349322.json',\n",
       " 's3a://raw/matchs/platina_BR1_2955353623.json',\n",
       " 's3a://raw/matchs/platina_BR1_2955365040.json',\n",
       " 's3a://raw/matchs/silver_BR1_2946887138.json',\n",
       " 's3a://raw/matchs/silver_BR1_2946897290.json',\n",
       " 's3a://raw/matchs/silver_BR1_2947200041.json',\n",
       " 's3a://raw/matchs/silver_BR1_2947330678.json',\n",
       " 's3a://raw/matchs/silver_BR1_2947349675.json',\n",
       " 's3a://raw/matchs/silver_BR1_2947562995.json',\n",
       " 's3a://raw/matchs/silver_BR1_2948772914.json',\n",
       " 's3a://raw/matchs/silver_BR1_2948797441.json',\n",
       " 's3a://raw/matchs/silver_BR1_2948905823.json',\n",
       " 's3a://raw/matchs/silver_BR1_2950135454.json',\n",
       " 's3a://raw/matchs/silver_BR1_2950139441.json',\n",
       " 's3a://raw/matchs/silver_BR1_2950152956.json',\n",
       " 's3a://raw/matchs/silver_BR1_2950497680.json',\n",
       " 's3a://raw/matchs/silver_BR1_2951832773.json',\n",
       " 's3a://raw/matchs/silver_BR1_2952510814.json',\n",
       " 's3a://raw/matchs/silver_BR1_2952520741.json',\n",
       " 's3a://raw/matchs/silver_BR1_2952860658.json',\n",
       " 's3a://raw/matchs/silver_BR1_2954035855.json',\n",
       " 's3a://raw/matchs/silver_BR1_2954200553.json',\n",
       " 's3a://raw/matchs/silver_BR1_2955775433.json']"
      ]
     },
     "execution_count": 7,
     "metadata": {},
     "output_type": "execute_result"
    }
   ],
   "source": [
    "json_files"
   ]
  },
  {
   "cell_type": "code",
   "execution_count": 8,
   "id": "d73d6863-4b8b-4be4-b49b-f8012d1f7b09",
   "metadata": {
    "tags": []
   },
   "outputs": [
    {
     "data": {
      "text/plain": [
       "['s3a://raw/matchs/bronze_BR1_2946682948.json',\n",
       " 's3a://raw/matchs/bronze_BR1_2946697589.json',\n",
       " 's3a://raw/matchs/bronze_BR1_2954036635.json']"
      ]
     },
     "execution_count": 8,
     "metadata": {},
     "output_type": "execute_result"
    }
   ],
   "source": [
    "tier = 'bronze'\n",
    "pattern = re.compile(f'{tier}')\n",
    "bronze_files = [path for path in json_files if pattern.search(path)]\n",
    "bronze_files"
   ]
  },
  {
   "cell_type": "code",
   "execution_count": 9,
   "id": "dbcd3f18-cf2b-42a5-9d22-f3ad468f5aaa",
   "metadata": {
    "tags": []
   },
   "outputs": [
    {
     "data": {
      "text/plain": [
       "['s3a://raw/matchs/bronze_BR1_2946682948.json',\n",
       " 's3a://raw/matchs/bronze_BR1_2946697589.json',\n",
       " 's3a://raw/matchs/bronze_BR1_2954036635.json']"
      ]
     },
     "execution_count": 9,
     "metadata": {},
     "output_type": "execute_result"
    }
   ],
   "source": [
    "bronze_files[0:]"
   ]
  },
  {
   "cell_type": "code",
   "execution_count": 10,
   "id": "9c8ad588-6342-47cd-89f6-1af4cb489710",
   "metadata": {
    "tags": []
   },
   "outputs": [],
   "source": [
    "df = spark.read.json(json_files[0:])"
   ]
  },
  {
   "cell_type": "code",
   "execution_count": 11,
   "id": "bf2cfb7d-d97d-456e-8dda-7e51b8587d5e",
   "metadata": {
    "tags": []
   },
   "outputs": [],
   "source": [
    "df_final = (\n",
    "    df\n",
    "    .withColumn('players_exploded', F.explode(F.col(\"info.participants\")))\n",
    "    .selectExpr(\"metadata.matchId\"\n",
    "                ,\"players_exploded.puuid\"\n",
    "                ,\"players_exploded.summonerId\"\n",
    "                ,\"players_exploded.championName\"\n",
    "                ,\"players_exploded.role\"\n",
    "                ,\"players_exploded.assists\"\n",
    "                ,\"players_exploded.damageDealtToTurrets\"\n",
    "                ,\"players_exploded.damageDealtToObjectives\"\n",
    "                ,\"players_exploded.detectorWardsPlaced\"\n",
    "                ,\"players_exploded.visionScore\"\n",
    "                ,\"players_exploded.visionWardsBoughtInGame\"\n",
    "                ,\"players_exploded.wardsKilled\"\n",
    "                ,\"players_exploded.wardsPlaced\"\n",
    "                ,\"players_exploded.enemyMissingPings\"\n",
    "                ,\"players_exploded.enemyVisionPings\"\n",
    "                ,\"players_exploded.getBackPings\"\n",
    "                ,\"players_exploded.goldEarned\"\n",
    "                ,\"players_exploded.goldSpent\"\n",
    "                ,\"players_exploded.longestTimeSpentLiving\"\n",
    "                ,\"players_exploded.magicDamageDealt\"\n",
    "                ,\"players_exploded.magicDamageDealtToChampions\"\n",
    "                ,\"players_exploded.magicDamageTaken\"\n",
    "                ,\"players_exploded.physicalDamageDealt\"\n",
    "                ,\"players_exploded.physicalDamageDealtToChampions\"\n",
    "                ,\"players_exploded.physicalDamageTaken\"\n",
    "                ,\"players_exploded.totalDamageDealt\"\n",
    "                ,\"players_exploded.totalDamageDealtToChampions\"\n",
    "                ,\"players_exploded.totalDamageTaken\"\n",
    "                ,\"players_exploded.totalTimeSpentDead\"  \n",
    "                ,\"players_exploded.spell1Casts\"\n",
    "                ,\"players_exploded.spell2Casts\"\n",
    "                ,\"players_exploded.spell3Casts\"\n",
    "                ,\"players_exploded.spell4Casts\"\n",
    "                ,\"players_exploded.teamId\"\n",
    "                ,\"players_exploded.win\"\n",
    "               )\n",
    ")\n"
   ]
  },
  {
   "cell_type": "code",
   "execution_count": null,
   "id": "2abbe8e2-99ac-4a9c-ac34-eae34ef232e5",
   "metadata": {},
   "outputs": [],
   "source": []
  }
 ],
 "metadata": {
  "kernelspec": {
   "display_name": "Python 3 (ipykernel)",
   "language": "python",
   "name": "python3"
  },
  "language_info": {
   "codemirror_mode": {
    "name": "ipython",
    "version": 3
   },
   "file_extension": ".py",
   "mimetype": "text/x-python",
   "name": "python",
   "nbconvert_exporter": "python",
   "pygments_lexer": "ipython3",
   "version": "3.10.10"
  }
 },
 "nbformat": 4,
 "nbformat_minor": 5
}
