{
 "cells": [
  {
   "cell_type": "code",
   "execution_count": 67,
   "id": "5ee7bcde-37cc-484c-8538-b79ed06fc6c5",
   "metadata": {
    "tags": []
   },
   "outputs": [],
   "source": [
    "from pyspark.sql.types import StructType\n",
    "from pyspark.sql.types import *\n",
    "from pyspark.sql import SparkSession\n",
    "# from pyspark.sql.functions import *\n",
    "import pyspark.sql.functions as F\n",
    "from pyspark.sql import DataFrame\n",
    "from pyspark.sql.streaming import DataStreamWriter\n",
    "from minio import Minio\n",
    "from datetime import timedelta\n",
    "from delta.tables import *\n",
    "import os\n",
    "from pyspark.sql.window import Window\n",
    "import re\n",
    "\n",
    "def minio_session_spark():\n",
    "    spark = (\n",
    "        SparkSession.builder\n",
    "            .master(\"local[*]\")\n",
    "            .appName(\"appMinIO\")\n",
    "            ### Config Fields\n",
    "            .config('spark.sql.debug.maxToStringFields', 5000)\n",
    "            .config('spark.debug.maxToStringFields', 5000)\n",
    "            ### Optimize\n",
    "            .config(\"delta.autoOptimize.optimizeWrite\", \"true\")\n",
    "            .config(\"delta.autoOptimize.autoCompact\", \"true\")\n",
    "            ### Delta Table\n",
    "            .config(\"spark.jars.packages\", \"io.delta:delta-core_2.12:2.3.0\")\n",
    "            .config(\"spark.sql.extensions\", \"io.delta.sql.DeltaSparkSessionExtension\")\n",
    "            .config(\"spark.sql.catalog.spark_catalog\", \"org.apache.spark.sql.delta.catalog.DeltaCatalog\")\n",
    "            ## MinIO\n",
    "            #.config(\"spark.hadoop.fs.s3a.endpoint\", \"http://172.20.0.2:9000\")\n",
    "             .config(\"spark.hadoop.fs.s3a.endpoint\", \"minio:9000\")\n",
    "\n",
    "            .config(\"spark.hadoop.fs.s3a.access.key\", \"tcc_user\")\n",
    "            .config(\"spark.hadoop.fs.s3a.secret.key\", \"Acnmne@a9h!\")\n",
    "            .config(\"spark.hadoop.fs.s3a.path.style.access\", \"true\")\n",
    "            .config(\"spark.hadoop.fs.s3a.impl\", \"org.apache.hadoop.fs.s3a.S3AFileSystem\")\n",
    "            .config(\"spark.hadoop.fs.s3a.connection.ssl.enabled\", \"false\")\n",
    "            ## Jars\n",
    "            .config(\"spark.jars\", \"/home/jovyan/work/jars/hadoop-common-3.3.2.jar,\\\n",
    "                                    /home/jovyan/work/jars/hadoop-aws-3.3.2.jar, \\\n",
    "                                    /home/jovyan/work/jars/aws-java-sdk-bundle-1.11.874.jar\")\n",
    "            .config('spark.hadoop.fs.s3a.aws.credentials.provider', 'org.apache.hadoop.fs.s3a.SimpleAWSCredentialsProvider')\n",
    "            .getOrCreate()\n",
    "    )\n",
    "    return spark"
   ]
  },
  {
   "cell_type": "code",
   "execution_count": 68,
   "id": "7d77400d-8da9-4125-971c-31a0a0b89ff8",
   "metadata": {
    "tags": []
   },
   "outputs": [],
   "source": [
    "spark = minio_session_spark()"
   ]
  },
  {
   "cell_type": "code",
   "execution_count": 69,
   "id": "9015c602-206e-4d45-ac50-514b781c4c5e",
   "metadata": {
    "tags": []
   },
   "outputs": [],
   "source": [
    "#MINIO CONFIGS\n",
    "minio_endpoint = 'minio:9000'\n",
    "minio_access_key = 'tcc_fia'\n",
    "minio_secret_key = 'tcc_fia_2024'\n",
    "secure = False  \n",
    "minio_client = Minio(endpoint=minio_endpoint, access_key=minio_access_key, secret_key=minio_secret_key, secure=secure)"
   ]
  },
  {
   "cell_type": "code",
   "execution_count": 71,
   "id": "60f2694b-8df5-4c05-ae84-51454cc271f7",
   "metadata": {
    "tags": []
   },
   "outputs": [],
   "source": [
    "minio_bucket = 'raw'\n",
    "prefix = 'matchs/'"
   ]
  },
  {
   "cell_type": "code",
   "execution_count": 84,
   "id": "19c60585-7768-4bf0-a4ed-a34f0986c758",
   "metadata": {
    "tags": []
   },
   "outputs": [],
   "source": [
    "objects = minio_client.list_objects(minio_bucket, prefix=prefix)\n",
    "json_files = [f\"s3a://{minio_bucket}/{obj.object_name}\" for obj in objects]"
   ]
  },
  {
   "cell_type": "code",
   "execution_count": 85,
   "id": "9b53473d-b0dc-4037-b6f6-33bcf0024ebb",
   "metadata": {
    "tags": []
   },
   "outputs": [
    {
     "data": {
      "text/plain": [
       "['s3a://raw/matchs/',\n",
       " 's3a://raw/matchs/bronze_BR1_2946682948.json',\n",
       " 's3a://raw/matchs/bronze_BR1_2946697589.json',\n",
       " 's3a://raw/matchs/bronze_BR1_2954036635.json']"
      ]
     },
     "execution_count": 85,
     "metadata": {},
     "output_type": "execute_result"
    }
   ],
   "source": [
    "json_files"
   ]
  },
  {
   "cell_type": "code",
   "execution_count": 88,
   "id": "d73d6863-4b8b-4be4-b49b-f8012d1f7b09",
   "metadata": {
    "tags": []
   },
   "outputs": [
    {
     "data": {
      "text/plain": [
       "['s3a://raw/matchs/bronze_BR1_2946682948.json',\n",
       " 's3a://raw/matchs/bronze_BR1_2946697589.json',\n",
       " 's3a://raw/matchs/bronze_BR1_2954036635.json']"
      ]
     },
     "execution_count": 88,
     "metadata": {},
     "output_type": "execute_result"
    }
   ],
   "source": [
    "tier = 'bronze'\n",
    "pattern = re.compile(f'{tier}')\n",
    "bronze_files = [path for path in json_files if pattern.search(path)]\n",
    "bronze_files"
   ]
  },
  {
   "cell_type": "code",
   "execution_count": 90,
   "id": "dbcd3f18-cf2b-42a5-9d22-f3ad468f5aaa",
   "metadata": {
    "tags": []
   },
   "outputs": [
    {
     "data": {
      "text/plain": [
       "['s3a://raw/matchs/bronze_BR1_2946682948.json',\n",
       " 's3a://raw/matchs/bronze_BR1_2946697589.json',\n",
       " 's3a://raw/matchs/bronze_BR1_2954036635.json']"
      ]
     },
     "execution_count": 90,
     "metadata": {},
     "output_type": "execute_result"
    }
   ],
   "source": [
    "bronze_files[0:]"
   ]
  },
  {
   "cell_type": "code",
   "execution_count": 42,
   "id": "9c8ad588-6342-47cd-89f6-1af4cb489710",
   "metadata": {
    "tags": []
   },
   "outputs": [],
   "source": [
    "df = spark.read.json(json_files[1:])"
   ]
  },
  {
   "cell_type": "code",
   "execution_count": 63,
   "id": "bf2cfb7d-d97d-456e-8dda-7e51b8587d5e",
   "metadata": {
    "tags": []
   },
   "outputs": [
    {
     "name": "stdout",
     "output_type": "stream",
     "text": [
      "+--------------+--------------------+--------------------+------------+-------+-------+--------------------+-----------------------+-------------------+-----------+-----------------------+-----------+-----------+-----------------+----------------+------------+----------+---------+----------------------+----------------+---------------------------+----------------+-------------------+------------------------------+-------------------+----------------+---------------------------+----------------+------------------+-----------+-----------+-----------+-----------+------+-----+\n",
      "|       matchId|               puuid|          summonerId|championName|   role|assists|damageDealtToTurrets|damageDealtToObjectives|detectorWardsPlaced|visionScore|visionWardsBoughtInGame|wardsKilled|wardsPlaced|enemyMissingPings|enemyVisionPings|getBackPings|goldEarned|goldSpent|longestTimeSpentLiving|magicDamageDealt|magicDamageDealtToChampions|magicDamageTaken|physicalDamageDealt|physicalDamageDealtToChampions|physicalDamageTaken|totalDamageDealt|totalDamageDealtToChampions|totalDamageTaken|totalTimeSpentDead|spell1Casts|spell2Casts|spell3Casts|spell4Casts|teamId|  win|\n",
      "+--------------+--------------------+--------------------+------------+-------+-------+--------------------+-----------------------+-------------------+-----------+-----------------------+-----------+-----------+-----------------+----------------+------------+----------+---------+----------------------+----------------+---------------------------+----------------+-------------------+------------------------------+-------------------+----------------+---------------------------+----------------+------------------+-----------+-----------+-----------+-----------+------+-----+\n",
      "|BR1_2946682948|dN67wOenp24zmAutp...|JHqcKBhmloi6z9qH5...|         Jax|   SOLO|      3|                4463|                   4701|                  1|         14|                      1|          0|          9|                1|               0|           0|     10795|    10433|                   819|           23594|                       4888|            8030|              75008|                          9728|              14873|          108034|                      14998|           24613|               223|         44|         75|         50|          8|   100|false|\n",
      "|BR1_2946682948|-GYdD_W1YRrnmgj1s...|MJdN0h-7K3ROG7P-4...|  MonkeyKing|   NONE|      9|                2202|                  33302|                  0|          5|                      0|          0|          0|                0|               0|           0|     11244|    10833|                   679|           19020|                       2556|           14923|             102985|                         21194|              32451|          215586|                      27614|           49751|               364|        184|         66|        119|         24|   100|false|\n",
      "|BR1_2946682948|FsV4HnYoJxZpEyK0u...|YAvG2DTrLTbpSqFIE...|    Katarina|   SOLO|      2|                 441|                    441|                  0|          7|                      1|          0|          2|               10|               0|           0|     11507|    10725|                   954|           96218|                      30801|            6397|               9138|                          2265|              25714|          110754|                      35039|           33583|               399|         72|         52|          0|         13|   100|false|\n",
      "|BR1_2946682948|lyst6pwa3Suax8DIJ...|MepiNB5MYRHwEO5I6...|     Kalista|  CARRY|      6|                5955|                   7448|                  2|         27|                      3|          0|         12|                8|               0|          11|     13566|    13685|                   859|            9932|                       1784|            3766|             134060|                         20765|              22757|          145519|                      22652|           27838|               338|         75|          5|         96|          3|   100|false|\n",
      "|BR1_2946682948|FdacAHYxPtezc428A...|xow_cudEfYe-oWMfd...|         Lux|SUPPORT|     15|                3367|                   3813|                  5|         75|                      5|          6|         31|                2|               0|           0|     10848|     9675|                   381|           84920|                      24957|            4350|               4291|                          1112|              17956|           93203|                      27795|           23121|               291|         57|         27|        179|         24|   100|false|\n",
      "|BR1_2946682948|BtG3053CWGPzd_uj6...|t9MWpk4GNXP3JQvP8...|      KSante|   SOLO|      8|                1704|                   1849|                  0|         12|                      0|          1|          6|                0|               0|           0|     12732|    10800|                   429|           18411|                       4335|           13555|             123180|                         21115|              17125|          150571|                      27336|           33111|               173|        250|         42|         85|          7|   200| true|\n",
      "|BR1_2946682948|OyKmiqIKoWkI6kXl5...|AO3iqVQd72fSFTUbd...|     Nidalee|   NONE|      6|                2027|                  28055|                  0|         16|                      0|          1|          7|                0|               0|           0|     14477|    10950|                   709|          167715|                      19353|           12305|              18642|                           885|              25600|          248731|                      20995|           39248|               134|        291|        233|        169|        331|   200| true|\n",
      "|BR1_2946682948|hierI56KBqiLjqsFF...|sRyli-Hli2eO-KqGM...|       Corki|   SOLO|      8|                4161|                   5651|                  1|         24|                      3|          2|          9|                6|               0|          10|     11223|     9955|                   521|           40801|                       3633|           14347|              82312|                         10437|              12233|          132713|                      15533|           27920|               271|         56|         17|         39|         74|   200| true|\n",
      "|BR1_2946682948|Bs1NvKChEwI-RE3Fo...|3YRcay03nsp3C4NTE...| MissFortune|  CARRY|      9|               14457|                  18049|                  0|         18|                      0|          2|         10|               21|               0|           0|     21149|    18100|                   470|            3118|                       1217|           13551|             219779|                         49021|              11913|          226591|                      52447|           27098|               293|        126|        101|         24|         20|   200| true|\n",
      "|BR1_2946682948|mIR5Jv1c29ST47d2Z...|mmiqBn1nXXiFlA2-h...|       Taric|SUPPORT|     19|                 495|                   4186|                  1|         25|                      1|          4|         10|                0|               0|           0|      9327|     9275|                   535|           16567|                       5714|           14026|              10180|                          2477|              18612|           34541|                       9563|           34002|               170|         77|         60|         61|          6|   200| true|\n",
      "|BR1_2954036635|4kuUWKBPmOr9McSKY...|cLNEYXDDA6kq1ntd1...|       Garen|SUPPORT|      0|                2012|                   2012|                  0|          8|                      0|          0|          6|                0|               0|           0|      4794|     4350|                  1006|               0|                          0|            3758|              54243|                          3471|               4187|           60080|                       4208|            8526|                 0|         46|         11|         33|          3|   100|false|\n",
      "|BR1_2954036635|Wjj55aIqsLj0wHIsO...|ZG0w9UFVD1VT-huNb...|         Jax|SUPPORT|      0|                1293|                   1293|                  0|         10|                      0|          1|          5|                0|               0|           0|      3489|     3200|                   446|           13091|                       1439|            5351|              15578|                          1762|               5229|           31852|                       3201|           10994|                77|         32|         26|         39|          2|   100|false|\n",
      "|BR1_2954036635|4U4PPCDppu3zE8TEy...|IA7HXUNHF0n7n1vPW...|      Velkoz|SUPPORT|      1|                 641|                    641|                  0|          9|                      0|          0|          5|                4|               0|           0|      4029|     3200|                   201|           34037|                       5337|            7985|               4041|                            91|               2349|           46345|                       6736|           10470|                58|         44|         51|         19|          4|   100|false|\n",
      "|BR1_2954036635|6O5PQvf8RbucgO7E1...|KadQcyQLnE01A_Ovy...|        Ashe|SUPPORT|      2|                 131|                    131|                  0|          8|                      0|          0|          5|                2|               0|           0|      4328|     4425|                   202|             731|                        431|            3245|              27913|                          6214|               6740|           33733|                       7174|           10166|                91|         15|         33|          0|          3|   100|false|\n",
      "|BR1_2954036635|sOgl0kwah5bqU9_Gv...|etIKn9RntqtnecIwD...|       Leona|SUPPORT|      2|                   0|                      0|                  0|         13|                      0|          0|          7|                0|               0|           0|      6214|     4500|                   357|            4796|                       2675|            5952|               3240|                          1915|               5843|           10371|                       4967|           12006|                54|         24|         14|         19|          3|   100|false|\n",
      "|BR1_2954036635|C4G2Hx8oUAIhgufxW...|-UnsRNzUtnObzoE2f...|        Ekko|SUPPORT|      0|                 965|                    965|                  0|          8|                      0|          0|          6|                0|               1|           0|      4324|     3200|                     0|           40679|                       4866|             232|               9184|                          1073|               6281|           53633|                       6779|            7251|                 0|         59|         25|         29|          3|   200| true|\n",
      "|BR1_2954036635|FNGFlR3oizxMXkA9Z...|5uoPQvaXw9MvLqdbk...|         Zac|SUPPORT|      4|                   0|                  22138|                  0|         12|                      0|          0|          6|                1|               0|           0|      5357|     2000|                     0|           43187|                       3725|            2879|              13642|                           725|              14459|           92404|                       4647|           17925|                 0|         50|        118|         37|          2|   200| true|\n",
      "|BR1_2954036635|SFhrpWBqa6EBw0FBu...|xQZ_la8jMd_0gIuMI...|         Lux|SUPPORT|      0|                2955|                   3056|                  2|         17|                      3|          0|          7|                8|               0|          15|      6424|     6225|                   921|           39654|                      11211|            3402|               8998|                          1638|               1286|           49104|                      12850|            5345|                35|         35|         20|         98|          7|   200| true|\n",
      "|BR1_2954036635|ryXSrPO95bxHW8b8O...|E8i8CJItPEOYD3TWt...|     Caitlyn|    DUO|      3|                3552|                   7240|                  0|          7|                      0|          2|          3|                0|               1|           0|      8959|     7550|                   692|            2913|                       1729|            3292|              65885|                         11623|               5306|           70590|                      13393|            9087|                42|         35|         16|         21|          4|   200| true|\n",
      "|BR1_2954036635|v-_kQKOIO2SHlqFV4...|D-FOplrKcp3pKWtpB...|      Thresh|SUPPORT|     13|                1420|                   5539|                  1|         21|                      1|          2|          9|                0|               0|           0|      5650|     4875|                   579|           10813|                       4262|            1534|               6569|                           935|               6536|           20878|                       5642|            8552|                35|         29|         16|         18|          2|   200| true|\n",
      "+--------------+--------------------+--------------------+------------+-------+-------+--------------------+-----------------------+-------------------+-----------+-----------------------+-----------+-----------+-----------------+----------------+------------+----------+---------+----------------------+----------------+---------------------------+----------------+-------------------+------------------------------+-------------------+----------------+---------------------------+----------------+------------------+-----------+-----------+-----------+-----------+------+-----+\n",
      "only showing top 20 rows\n",
      "\n"
     ]
    }
   ],
   "source": [
    "df_final = (\n",
    "    df\n",
    "    .withColumn('players_exploded', F.explode(F.col(\"info.participants\")))\n",
    "    .selectExpr(\"metadata.matchId\"\n",
    "                ,\"players_exploded.puuid\"\n",
    "                ,\"players_exploded.summonerId\"\n",
    "                ,\"players_exploded.championName\"\n",
    "                ,\"players_exploded.role\"\n",
    "                ,\"players_exploded.assists\"\n",
    "                ,\"players_exploded.damageDealtToTurrets\"\n",
    "                ,\"players_exploded.damageDealtToObjectives\"\n",
    "                ,\"players_exploded.detectorWardsPlaced\"\n",
    "                ,\"players_exploded.visionScore\"\n",
    "                ,\"players_exploded.visionWardsBoughtInGame\"\n",
    "                ,\"players_exploded.wardsKilled\"\n",
    "                ,\"players_exploded.wardsPlaced\"\n",
    "                ,\"players_exploded.enemyMissingPings\"\n",
    "                ,\"players_exploded.enemyVisionPings\"\n",
    "                ,\"players_exploded.getBackPings\"\n",
    "                ,\"players_exploded.goldEarned\"\n",
    "                ,\"players_exploded.goldSpent\"\n",
    "                ,\"players_exploded.longestTimeSpentLiving\"\n",
    "                ,\"players_exploded.magicDamageDealt\"\n",
    "                ,\"players_exploded.magicDamageDealtToChampions\"\n",
    "                ,\"players_exploded.magicDamageTaken\"\n",
    "                ,\"players_exploded.physicalDamageDealt\"\n",
    "                ,\"players_exploded.physicalDamageDealtToChampions\"\n",
    "                ,\"players_exploded.physicalDamageTaken\"\n",
    "                ,\"players_exploded.totalDamageDealt\"\n",
    "                ,\"players_exploded.totalDamageDealtToChampions\"\n",
    "                ,\"players_exploded.totalDamageTaken\"\n",
    "                ,\"players_exploded.totalTimeSpentDead\"  \n",
    "                ,\"players_exploded.spell1Casts\"\n",
    "                ,\"players_exploded.spell2Casts\"\n",
    "                ,\"players_exploded.spell3Casts\"\n",
    "                ,\"players_exploded.spell4Casts\"\n",
    "                ,\"players_exploded.teamId\"\n",
    "                ,\"players_exploded.win\"\n",
    "               )\n",
    ")\n"
   ]
  },
  {
   "cell_type": "code",
   "execution_count": null,
   "id": "2abbe8e2-99ac-4a9c-ac34-eae34ef232e5",
   "metadata": {},
   "outputs": [],
   "source": []
  }
 ],
 "metadata": {
  "kernelspec": {
   "display_name": "Python 3 (ipykernel)",
   "language": "python",
   "name": "python3"
  },
  "language_info": {
   "codemirror_mode": {
    "name": "ipython",
    "version": 3
   },
   "file_extension": ".py",
   "mimetype": "text/x-python",
   "name": "python",
   "nbconvert_exporter": "python",
   "pygments_lexer": "ipython3",
   "version": "3.10.10"
  }
 },
 "nbformat": 4,
 "nbformat_minor": 5
}
