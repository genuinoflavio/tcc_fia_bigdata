{
 "cells": [
  {
   "cell_type": "code",
   "execution_count": 1,
   "id": "9c30109c-f433-427d-8ebc-51bc366370ec",
   "metadata": {
    "tags": []
   },
   "outputs": [],
   "source": [
    "from pyspark.sql.types import StructType\n",
    "from pyspark.sql.types import *\n",
    "from pyspark.sql import SparkSession\n",
    "from pyspark.sql.functions import *\n",
    "from pyspark.sql import DataFrame\n",
    "from pyspark.sql.streaming import DataStreamWriter\n",
    "from minio import Minio\n",
    "from datetime import timedelta\n",
    "from delta.tables import *\n",
    "import os\n",
    "\n",
    "def minio_session_spark():\n",
    "    spark = (\n",
    "        SparkSession.builder\n",
    "            .master(\"local[*]\")\n",
    "            .appName(\"appMinIO\")\n",
    "            ### Config Fields\n",
    "            .config('spark.sql.debug.maxToStringFields', 5000)\n",
    "            .config('spark.debug.maxToStringFields', 5000)\n",
    "            ### Optimize\n",
    "            .config(\"delta.autoOptimize.optimizeWrite\", \"true\")\n",
    "            .config(\"delta.autoOptimize.autoCompact\", \"true\")\n",
    "            ### Delta Table\n",
    "            .config(\"spark.jars.packages\", \"io.delta:delta-core_2.12:2.3.0\")\n",
    "            .config(\"spark.sql.extensions\", \"io.delta.sql.DeltaSparkSessionExtension\")\n",
    "            .config(\"spark.sql.catalog.spark_catalog\", \"org.apache.spark.sql.delta.catalog.DeltaCatalog\")\n",
    "            ## MinIO\n",
    "            #.config(\"spark.hadoop.fs.s3a.endpoint\", \"http://172.20.0.2:9000\")\n",
    "             .config(\"spark.hadoop.fs.s3a.endpoint\", \"minio:9000\")\n",
    "\n",
    "            .config(\"spark.hadoop.fs.s3a.access.key\", \"tcc_user\")\n",
    "            .config(\"spark.hadoop.fs.s3a.secret.key\", \"Acnmne@a9h!\")\n",
    "            .config(\"spark.hadoop.fs.s3a.path.style.access\", \"true\")\n",
    "            .config(\"spark.hadoop.fs.s3a.impl\", \"org.apache.hadoop.fs.s3a.S3AFileSystem\")\n",
    "            .config(\"spark.hadoop.fs.s3a.connection.ssl.enabled\", \"false\")\n",
    "            ## Jars\n",
    "            .config(\"spark.jars\", \"/home/jovyan/work/jars/hadoop-common-3.3.2.jar,\\\n",
    "                                    /home/jovyan/work/jars/hadoop-aws-3.3.2.jar, \\\n",
    "                                    /home/jovyan/work/jars/aws-java-sdk-bundle-1.11.874.jar\")\n",
    "            .config('spark.hadoop.fs.s3a.aws.credentials.provider', 'org.apache.hadoop.fs.s3a.SimpleAWSCredentialsProvider')\n",
    "            .getOrCreate()\n",
    "    )\n",
    "    return spark"
   ]
  },
  {
   "cell_type": "code",
   "execution_count": 2,
   "id": "83fd82bc-9a3c-4897-b1b4-75b0bdf00a88",
   "metadata": {
    "tags": []
   },
   "outputs": [
    {
     "name": "stdout",
     "output_type": "stream",
     "text": [
      "Spark version = 3.3.2\n",
      "Hadoop version = 3.3.2\n"
     ]
    }
   ],
   "source": [
    "spark = minio_session_spark()\n",
    "\n",
    "# spark\n",
    "print(f\"Spark version = {spark.version}\")\n",
    "\n",
    "# hadoop\n",
    "print(f\"Hadoop version = {spark._jvm.org.apache.hadoop.util.VersionInfo.getVersion()}\")"
   ]
  },
  {
   "cell_type": "code",
   "execution_count": 3,
   "id": "88231932-4e58-4508-a729-47ea61c9998d",
   "metadata": {
    "tags": []
   },
   "outputs": [],
   "source": [
    "df = (\n",
    "spark\n",
    "    .read\n",
    "    .format('delta')\n",
    "    .load(f\"s3a://gold/tb_all_players\")\n",
    ")"
   ]
  },
  {
   "cell_type": "code",
   "execution_count": 4,
   "id": "83ea2a9e-c847-47ca-87ec-99d59e4b588c",
   "metadata": {
    "tags": []
   },
   "outputs": [
    {
     "name": "stdout",
     "output_type": "stream",
     "text": [
      "+----------+---------+--------+--------------------+------------+------+---------------+----+--------------------+----------------+------+-------+----+\n",
      "|freshBlood|hotStreak|inactive|            leagueId|leaguePoints|losses|      queueType|rank|          summonerId|    summonerName|  tier|veteran|wins|\n",
      "+----------+---------+--------+--------------------+------------+------+---------------+----+--------------------+----------------+------+-------+----+\n",
      "|     false|    false|   false|ed208be9-601d-44e...|          30|   134|RANKED_SOLO_5x5|  II|ioXqlbBBxZP56o_uv...|         ojakale|BRONZE|  false| 122|\n",
      "|     false|    false|   false|799a9e6f-8602-4ce...|          69|     6|RANKED_SOLO_5x5|  II|RrL-LDqyrLPzrtJ5N...|          Filler|BRONZE|  false|   7|\n",
      "|     false|    false|   false|0323eb98-e427-492...|          75|    64|RANKED_SOLO_5x5|  II|8SSYZKdH6qaddI0Ig...|  Um cafetão top|BRONZE|  false|  88|\n",
      "|     false|    false|   false|ba5d8a03-2d18-4e1...|          19|    47|RANKED_SOLO_5x5|  II|r6Zl4LrO8YUNxNtwd...|     Gato Preto7|BRONZE|  false|  41|\n",
      "|     false|    false|   false|e42e5274-d780-46f...|          58|    14|RANKED_SOLO_5x5|  II|mYCDqrePBdIQMOHr9...|        Wes Yone|BRONZE|  false|  16|\n",
      "|     false|    false|   false|ca0c46d7-5de5-49b...|          17|    93|RANKED_SOLO_5x5|  II|Nje08u0j73bTauvJC...|     M1ss Murder|BRONZE|  false|  85|\n",
      "|     false|    false|   false|c5b292b0-769b-489...|           4|    38|RANKED_SOLO_5x5|  II|K0Xi1tFk7HBae4A3K...|Salão e Estética|BRONZE|  false|  42|\n",
      "|     false|    false|   false|377bd59d-7ac5-4c6...|          31|    35|RANKED_SOLO_5x5|  II|MYFPx-5oZxPb7VtGW...|        CharBlue|BRONZE|  false|  35|\n",
      "|     false|     true|   false|c07870c7-5a19-4b0...|           4|     4|RANKED_SOLO_5x5|  II|MFx6vnADePrqmjLXL...|     yone zaraki|BRONZE|  false|  11|\n",
      "|     false|    false|   false|28b6373a-5f02-4e4...|          75|    16|RANKED_SOLO_5x5|  II|LowhHhGWp3eZ2Ne17...|      EE Zeppeli|BRONZE|  false|  10|\n",
      "|     false|    false|   false|ad00f5b6-f899-491...|           0|    11|RANKED_SOLO_5x5|  II|85-CyOleHUjZYYJZe...|   Que gata hein|BRONZE|  false|  11|\n",
      "|     false|    false|   false|a7f0ace6-4a57-47f...|          11|     4|RANKED_SOLO_5x5|  II|sTx_NgA-Y1lis4a_7...|       TheChadTC|BRONZE|  false|   4|\n",
      "|     false|    false|   false|1b79d245-746b-4cd...|          48|    58|RANKED_SOLO_5x5|  II|jRcZgIAZziii2Fi64...|      Olverpower|BRONZE|  false|  56|\n",
      "|     false|    false|   false|19d6ac3e-8c97-478...|          14|     9|RANKED_SOLO_5x5|  II|X6xquEMe-_SRYwLPS...|     MrFerdinand|BRONZE|  false|  14|\n",
      "|     false|    false|   false|412438a0-9e10-4be...|          29|    12|RANKED_SOLO_5x5|  II|MWywRnTGb0Gs7P-hQ...|         Estebru|BRONZE|  false|  13|\n",
      "|     false|    false|   false|997ba078-9d76-435...|          51|    29|RANKED_SOLO_5x5|  II|FukyAnibyoSP4UuKG...|       metrohook|BRONZE|  false|  33|\n",
      "|     false|    false|   false|85f7e8b4-a390-4bc...|          74|     9|RANKED_SOLO_5x5|  II|sJ2z3UKj8sckl5SM5...|         estobil|BRONZE|  false|  11|\n",
      "|     false|    false|   false|5bf2a718-fbf7-498...|          75|    17|RANKED_SOLO_5x5|  II|Zw-1SqPOl7tpjH8VC...|         LockLeo|BRONZE|  false|  13|\n",
      "|     false|    false|   false|9455121d-e0d4-4b9...|           7|    25|RANKED_SOLO_5x5|  II|6_CxJBpoIaWWAuZC9...|     brahmaboy21|BRONZE|  false|  18|\n",
      "|     false|    false|   false|d6105d8d-b2c8-4dd...|          60|    11|RANKED_SOLO_5x5|  II|si4baaG5FXpzk9qkP...|      Evelycious|BRONZE|  false|  15|\n",
      "+----------+---------+--------+--------------------+------------+------+---------------+----+--------------------+----------------+------+-------+----+\n",
      "only showing top 20 rows\n",
      "\n"
     ]
    }
   ],
   "source": [
    "df.show()"
   ]
  },
  {
   "cell_type": "code",
   "execution_count": 5,
   "id": "9f068c9b-95ee-4099-9d20-3087cecc2341",
   "metadata": {
    "tags": []
   },
   "outputs": [
    {
     "name": "stdout",
     "output_type": "stream",
     "text": [
      "+----------+---------+--------+--------------------+------------+------+---------------+----+--------------------+------------+--------+-------+----+\n",
      "|freshBlood|hotStreak|inactive|            leagueId|leaguePoints|losses|      queueType|rank|          summonerId|summonerName|    tier|veteran|wins|\n",
      "+----------+---------+--------+--------------------+------------+------+---------------+----+--------------------+------------+--------+-------+----+\n",
      "|      true|    false|   false|7165b127-44ee-472...|          22|   139|RANKED_SOLO_5x5|  IV|q4_9UDSTxGSTtVTgx...|  FGS theone|PLATINUM|  false| 158|\n",
      "+----------+---------+--------+--------------------+------------+------+---------------+----+--------------------+------------+--------+-------+----+\n",
      "\n"
     ]
    }
   ],
   "source": [
    "(\n",
    "    df\n",
    "    .filter(col('summonerName') == 'FGS theone')\n",
    ").show()"
   ]
  },
  {
   "cell_type": "code",
   "execution_count": 6,
   "id": "f5d0538a-5bc1-4c14-9a21-5219ea165199",
   "metadata": {
    "tags": []
   },
   "outputs": [
    {
     "name": "stdout",
     "output_type": "stream",
     "text": [
      "+--------+------------+\n",
      "|    tier|player_count|\n",
      "+--------+------------+\n",
      "|PLATINUM|      213122|\n",
      "|    GOLD|      263929|\n",
      "|  SILVER|      257509|\n",
      "|  BRONZE|      235265|\n",
      "+--------+------------+\n",
      "\n"
     ]
    }
   ],
   "source": [
    "(\n",
    "    df\n",
    "    .groupBy(\"tier\")\n",
    "    .agg(count(\"*\").alias(\"player_count\"))\n",
    ").show()"
   ]
  },
  {
   "cell_type": "code",
   "execution_count": 35,
   "id": "582be59f-88df-4079-8eb6-5eda4e8f2abd",
   "metadata": {
    "tags": []
   },
   "outputs": [],
   "source": [
    "(\n",
    "    df.coalesce(1).write\n",
    "     .format(\"csv\")\n",
    "     .mode(\"overwrite\")\n",
    "     .option(\"header\", \"true\")\n",
    "     .save(\"s3a://datasetv2/tb_all_players\")\n",
    ")"
   ]
  },
  {
   "cell_type": "code",
   "execution_count": null,
   "id": "e206a5fe-ac88-4280-977a-0f40f14c43dd",
   "metadata": {},
   "outputs": [],
   "source": [
    "("
   ]
  }
 ],
 "metadata": {
  "kernelspec": {
   "display_name": "Python 3 (ipykernel)",
   "language": "python",
   "name": "python3"
  },
  "language_info": {
   "codemirror_mode": {
    "name": "ipython",
    "version": 3
   },
   "file_extension": ".py",
   "mimetype": "text/x-python",
   "name": "python",
   "nbconvert_exporter": "python",
   "pygments_lexer": "ipython3",
   "version": "3.10.10"
  }
 },
 "nbformat": 4,
 "nbformat_minor": 5
}
