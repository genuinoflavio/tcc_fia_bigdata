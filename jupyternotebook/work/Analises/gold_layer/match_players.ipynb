{
 "cells": [
  {
   "cell_type": "code",
   "execution_count": 1,
   "id": "f3757570-a341-490b-839a-3a3a0aa5d078",
   "metadata": {
    "tags": []
   },
   "outputs": [],
   "source": [
    "from pyspark.sql.types import StructType\n",
    "from pyspark.sql.types import *\n",
    "from pyspark.sql import SparkSession\n",
    "# from pyspark.sql.functions import *\n",
    "import pyspark.sql.functions as F\n",
    "from pyspark.sql import DataFrame\n",
    "from pyspark.sql.streaming import DataStreamWriter\n",
    "from minio import Minio\n",
    "from datetime import timedelta\n",
    "from delta.tables import *\n",
    "import os\n",
    "from pyspark.sql.window import Window\n",
    "\n",
    "def minio_session_spark():\n",
    "    spark = (\n",
    "        SparkSession.builder\n",
    "            .master(\"local[*]\")\n",
    "            .appName(\"appMinIO\")\n",
    "            ### Config Fields\n",
    "            .config('spark.sql.debug.maxToStringFields', 5000)\n",
    "            .config('spark.debug.maxToStringFields', 5000)\n",
    "            ### Optimize\n",
    "            .config(\"delta.autoOptimize.optimizeWrite\", \"true\")\n",
    "            .config(\"delta.autoOptimize.autoCompact\", \"true\")\n",
    "            ### Delta Table\n",
    "            .config(\"spark.jars.packages\", \"io.delta:delta-core_2.12:2.3.0\")\n",
    "            .config(\"spark.sql.extensions\", \"io.delta.sql.DeltaSparkSessionExtension\")\n",
    "            .config(\"spark.sql.catalog.spark_catalog\", \"org.apache.spark.sql.delta.catalog.DeltaCatalog\")\n",
    "            ## MinIO\n",
    "            #.config(\"spark.hadoop.fs.s3a.endpoint\", \"http://172.20.0.2:9000\")\n",
    "             .config(\"spark.hadoop.fs.s3a.endpoint\", \"minio:9000\")\n",
    "\n",
    "            .config(\"spark.hadoop.fs.s3a.access.key\", \"tcc_user\")\n",
    "            .config(\"spark.hadoop.fs.s3a.secret.key\", \"Acnmne@a9h!\")\n",
    "            .config(\"spark.hadoop.fs.s3a.path.style.access\", \"true\")\n",
    "            .config(\"spark.hadoop.fs.s3a.impl\", \"org.apache.hadoop.fs.s3a.S3AFileSystem\")\n",
    "            .config(\"spark.hadoop.fs.s3a.connection.ssl.enabled\", \"false\")\n",
    "            ## Jars\n",
    "            .config(\"spark.jars\", \"/home/jovyan/work/jars/hadoop-common-3.3.2.jar,\\\n",
    "                                    /home/jovyan/work/jars/hadoop-aws-3.3.2.jar, \\\n",
    "                                    /home/jovyan/work/jars/aws-java-sdk-bundle-1.11.874.jar\")\n",
    "            .config('spark.hadoop.fs.s3a.aws.credentials.provider', 'org.apache.hadoop.fs.s3a.SimpleAWSCredentialsProvider')\n",
    "            .getOrCreate()\n",
    "    )\n",
    "    return spark\n",
    "\n",
    "spark = minio_session_spark()"
   ]
  },
  {
   "cell_type": "code",
   "execution_count": null,
   "id": "e928cbd4-fbe6-44c8-bd17-c6541bca5ffb",
   "metadata": {},
   "outputs": [],
   "source": []
  },
  {
   "cell_type": "code",
   "execution_count": 14,
   "id": "355844b0-1815-4f42-9234-986814574c3f",
   "metadata": {
    "tags": []
   },
   "outputs": [],
   "source": [
    "df_bronze = (\n",
    "spark\n",
    "    .read\n",
    "    .format('delta')\n",
    "    .load(f\"s3a://gold/tb_lol_bronze_matchs\")\n",
    ")\n",
    "\n",
    "df_silver = (\n",
    "spark\n",
    "    .read\n",
    "    .format('delta')\n",
    "    .load(f\"s3a://gold/tb_lol_silver_matchs\")\n",
    ")\n",
    "\n",
    "df_gold = (\n",
    "spark\n",
    "    .read\n",
    "    .format('delta')\n",
    "    .load(f\"s3a://gold/tb_lol_gold_matchs\")\n",
    ")\n",
    "\n",
    "\n",
    "df_platina = (\n",
    "spark\n",
    "    .read\n",
    "    .format('delta')\n",
    "    .load(f\"s3a://gold/tb_lol_platina_matchs\")\n",
    ")"
   ]
  },
  {
   "cell_type": "code",
   "execution_count": 6,
   "id": "66ffff5e-baa4-4e5e-8e12-27a97a024480",
   "metadata": {
    "tags": []
   },
   "outputs": [],
   "source": [
    "list_int_cols = [i[0] for i in  df_bronze.dtypes if i[1] == 'bigint']"
   ]
  },
  {
   "cell_type": "code",
   "execution_count": null,
   "id": "60072838-03f2-4399-9dd2-6cf1ff149b2f",
   "metadata": {},
   "outputs": [],
   "source": []
  },
  {
   "cell_type": "code",
   "execution_count": 18,
   "id": "535cd9ed-91e4-4982-8737-fdef9b218389",
   "metadata": {
    "tags": []
   },
   "outputs": [
    {
     "data": {
      "text/plain": [
       "[('matchId', 'string'),\n",
       " ('puuid', 'string'),\n",
       " ('summonerId', 'string'),\n",
       " ('championName', 'string'),\n",
       " ('role', 'string'),\n",
       " ('assists', 'bigint'),\n",
       " ('damageDealtToTurrets', 'bigint'),\n",
       " ('damageDealtToObjectives', 'bigint'),\n",
       " ('detectorWardsPlaced', 'bigint'),\n",
       " ('visionScore', 'bigint'),\n",
       " ('visionWardsBoughtInGame', 'bigint'),\n",
       " ('wardsKilled', 'bigint'),\n",
       " ('wardsPlaced', 'bigint'),\n",
       " ('enemyMissingPings', 'bigint'),\n",
       " ('enemyVisionPings', 'bigint'),\n",
       " ('getBackPings', 'bigint'),\n",
       " ('goldEarned', 'bigint'),\n",
       " ('goldSpent', 'bigint'),\n",
       " ('longestTimeSpentLiving', 'bigint'),\n",
       " ('magicDamageDealt', 'bigint'),\n",
       " ('magicDamageDealtToChampions', 'bigint'),\n",
       " ('magicDamageTaken', 'bigint'),\n",
       " ('physicalDamageDealt', 'bigint'),\n",
       " ('physicalDamageDealtToChampions', 'bigint'),\n",
       " ('physicalDamageTaken', 'bigint'),\n",
       " ('totalDamageDealt', 'bigint'),\n",
       " ('totalDamageDealtToChampions', 'bigint'),\n",
       " ('totalDamageTaken', 'bigint'),\n",
       " ('totalTimeSpentDead', 'bigint'),\n",
       " ('spell1Casts', 'bigint'),\n",
       " ('spell2Casts', 'bigint'),\n",
       " ('spell3Casts', 'bigint'),\n",
       " ('spell4Casts', 'bigint'),\n",
       " ('teamId', 'bigint'),\n",
       " ('win', 'boolean')]"
      ]
     },
     "execution_count": 18,
     "metadata": {},
     "output_type": "execute_result"
    }
   ],
   "source": [
    "df_bronze.dtypes"
   ]
  },
  {
   "cell_type": "code",
   "execution_count": 27,
   "id": "02f825ca-8b52-4a6e-93a5-0a077ca508d3",
   "metadata": {
    "tags": []
   },
   "outputs": [
    {
     "name": "stdout",
     "output_type": "stream",
     "text": [
      "+-------+------------------+\n",
      "|summary|  totalDamageDealt|\n",
      "+-------+------------------+\n",
      "|  count|                30|\n",
      "|   mean| 85461.53333333334|\n",
      "| stddev|63468.244113172026|\n",
      "|    min|             10371|\n",
      "|    max|            248731|\n",
      "+-------+------------------+\n",
      "\n"
     ]
    }
   ],
   "source": [
    "(\n",
    "    df_bronze\n",
    "    # .select(list_int_cols)\n",
    "    .select('totalDamageDealt')\n",
    "    .describe()\n",
    "    .show()\n",
    ")"
   ]
  },
  {
   "cell_type": "code",
   "execution_count": 28,
   "id": "aa92c685-5459-4f06-99ca-fcec24ab410d",
   "metadata": {
    "tags": []
   },
   "outputs": [
    {
     "name": "stdout",
     "output_type": "stream",
     "text": [
      "+-------+------------------+\n",
      "|summary|  totalDamageDealt|\n",
      "+-------+------------------+\n",
      "|  count|               206|\n",
      "|   mean|131928.78155339806|\n",
      "| stddev| 98245.56793804554|\n",
      "|    min|                 0|\n",
      "|    max|            438335|\n",
      "+-------+------------------+\n",
      "\n"
     ]
    }
   ],
   "source": [
    "(\n",
    "    df_silver\n",
    "    # .select(list_int_cols)\n",
    "    .select('totalDamageDealt')\n",
    "    .describe()\n",
    "    .show()\n",
    ")"
   ]
  },
  {
   "cell_type": "code",
   "execution_count": 29,
   "id": "eb6a76ff-f772-4bc5-9c98-5f9ea917ccd1",
   "metadata": {
    "tags": []
   },
   "outputs": [
    {
     "name": "stdout",
     "output_type": "stream",
     "text": [
      "+-------+-----------------+\n",
      "|summary| totalDamageDealt|\n",
      "+-------+-----------------+\n",
      "|  count|              572|\n",
      "|   mean|92774.94755244756|\n",
      "| stddev|72959.61077580982|\n",
      "|    min|                0|\n",
      "|    max|           413145|\n",
      "+-------+-----------------+\n",
      "\n"
     ]
    }
   ],
   "source": [
    "(\n",
    "    df_gold\n",
    "    # .select(list_int_cols)\n",
    "    .select('totalDamageDealt')\n",
    "    .describe()\n",
    "    .show()\n",
    ")"
   ]
  },
  {
   "cell_type": "code",
   "execution_count": 30,
   "id": "4603fce0-695e-4705-9c8a-0c86625f68fc",
   "metadata": {
    "tags": []
   },
   "outputs": [
    {
     "name": "stdout",
     "output_type": "stream",
     "text": [
      "+-------+------------------+\n",
      "|summary|  totalDamageDealt|\n",
      "+-------+------------------+\n",
      "|  count|               330|\n",
      "|   mean| 66838.79696969697|\n",
      "| stddev|44566.721576976546|\n",
      "|    min|                 0|\n",
      "|    max|            276676|\n",
      "+-------+------------------+\n",
      "\n"
     ]
    }
   ],
   "source": [
    "(\n",
    "    df_platina\n",
    "    # .select(list_int_cols)\n",
    "    .select('totalDamageDealt')\n",
    "    .describe()\n",
    "    .show()\n",
    ")"
   ]
  },
  {
   "cell_type": "code",
   "execution_count": null,
   "id": "1642f997-0dca-4bb9-9bc0-77826fdf53fe",
   "metadata": {},
   "outputs": [],
   "source": []
  }
 ],
 "metadata": {
  "kernelspec": {
   "display_name": "Python 3 (ipykernel)",
   "language": "python",
   "name": "python3"
  },
  "language_info": {
   "codemirror_mode": {
    "name": "ipython",
    "version": 3
   },
   "file_extension": ".py",
   "mimetype": "text/x-python",
   "name": "python",
   "nbconvert_exporter": "python",
   "pygments_lexer": "ipython3",
   "version": "3.10.10"
  }
 },
 "nbformat": 4,
 "nbformat_minor": 5
}
