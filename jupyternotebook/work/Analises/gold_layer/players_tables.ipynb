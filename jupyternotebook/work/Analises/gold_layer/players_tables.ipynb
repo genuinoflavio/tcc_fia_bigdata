{
 "cells": [
  {
   "cell_type": "code",
   "execution_count": 37,
   "id": "868e29bc-20cd-4738-af6a-584d278ac2bd",
   "metadata": {
    "tags": []
   },
   "outputs": [],
   "source": [
    "from pyspark.sql.types import StructType\n",
    "from pyspark.sql.types import *\n",
    "from pyspark.sql import SparkSession\n",
    "# from pyspark.sql.functions import *\n",
    "import pyspark.sql.functions as F\n",
    "from pyspark.sql import DataFrame\n",
    "from pyspark.sql.streaming import DataStreamWriter\n",
    "from minio import Minio\n",
    "from datetime import timedelta\n",
    "from delta.tables import *\n",
    "import os\n",
    "from pyspark.sql.window import Window\n",
    "\n",
    "def minio_session_spark():\n",
    "    spark = (\n",
    "        SparkSession.builder\n",
    "            .master(\"local[*]\")\n",
    "            .appName(\"appMinIO\")\n",
    "            ### Config Fields\n",
    "            .config('spark.sql.debug.maxToStringFields', 5000)\n",
    "            .config('spark.debug.maxToStringFields', 5000)\n",
    "            ### Optimize\n",
    "            .config(\"delta.autoOptimize.optimizeWrite\", \"true\")\n",
    "            .config(\"delta.autoOptimize.autoCompact\", \"true\")\n",
    "            ### Delta Table\n",
    "            .config(\"spark.jars.packages\", \"io.delta:delta-core_2.12:2.3.0\")\n",
    "            .config(\"spark.sql.extensions\", \"io.delta.sql.DeltaSparkSessionExtension\")\n",
    "            .config(\"spark.sql.catalog.spark_catalog\", \"org.apache.spark.sql.delta.catalog.DeltaCatalog\")\n",
    "            ## MinIO\n",
    "            #.config(\"spark.hadoop.fs.s3a.endpoint\", \"http://172.20.0.2:9000\")\n",
    "             .config(\"spark.hadoop.fs.s3a.endpoint\", \"minio:9000\")\n",
    "\n",
    "            .config(\"spark.hadoop.fs.s3a.access.key\", \"tcc_user\")\n",
    "            .config(\"spark.hadoop.fs.s3a.secret.key\", \"Acnmne@a9h!\")\n",
    "            .config(\"spark.hadoop.fs.s3a.path.style.access\", \"true\")\n",
    "            .config(\"spark.hadoop.fs.s3a.impl\", \"org.apache.hadoop.fs.s3a.S3AFileSystem\")\n",
    "            .config(\"spark.hadoop.fs.s3a.connection.ssl.enabled\", \"false\")\n",
    "            ## Jars\n",
    "            .config(\"spark.jars\", \"/home/jovyan/work/jars/hadoop-common-3.3.2.jar,\\\n",
    "                                    /home/jovyan/work/jars/hadoop-aws-3.3.2.jar, \\\n",
    "                                    /home/jovyan/work/jars/aws-java-sdk-bundle-1.11.874.jar\")\n",
    "            .config('spark.hadoop.fs.s3a.aws.credentials.provider', 'org.apache.hadoop.fs.s3a.SimpleAWSCredentialsProvider')\n",
    "            .getOrCreate()\n",
    "    )\n",
    "    return spark"
   ]
  },
  {
   "cell_type": "markdown",
   "id": "d44b2a06-19f6-409e-bb33-c46b6b61929b",
   "metadata": {
    "tags": []
   },
   "source": [
    "### BRONZE PLAYERS"
   ]
  },
  {
   "cell_type": "code",
   "execution_count": 38,
   "id": "8aad9122-09f4-4936-9145-2cad48a4b4a4",
   "metadata": {
    "tags": []
   },
   "outputs": [],
   "source": [
    "spark = minio_session_spark()\n",
    "\n",
    "# # spark\n",
    "# print(f\"Spark version = {spark.version}\")\n",
    "\n",
    "# # hadoop\n",
    "# print(f\"Hadoop version = {spark._jvm.org.apache.hadoop.util.VersionInfo.getVersion()}\")"
   ]
  },
  {
   "cell_type": "code",
   "execution_count": 41,
   "id": "c91a4386-4d30-4007-a210-693cb31d4694",
   "metadata": {
    "tags": []
   },
   "outputs": [],
   "source": [
    "df = (\n",
    "spark\n",
    "    .read\n",
    "    .format('delta')\n",
    "    .load(f\"s3a://gold/tb_lol_bronze_players\")\n",
    ")\n",
    "\n",
    "#define a janela \n",
    "window_spec = (\n",
    "    Window\n",
    "    .partitionBy(\"rank\")\n",
    "    .orderBy(F.col(\"leaguePoints\").desc(),\n",
    "             F.col(\"win_percentage\").desc())\n",
    ")\n",
    "# #Cria % de vitorias e rank dos too players\n",
    "# df_perc_wins = (\n",
    "#     df\n",
    "#     .withColumn(\"win_percentage\", F.col(\"wins\") / ( F.col(\"wins\") + F.col(\"losses\" )))\n",
    "#     .select(\"summonerId\", \"rank\",\"leaguePoints\",\"win_percentage\", \"wins\", \"losses\")\n",
    "#     .withColumn(\"rn\", F.row_number().over(window_spec))\n",
    "# )"
   ]
  },
  {
   "cell_type": "code",
   "execution_count": 57,
   "id": "87cad366-c61a-461b-9328-29c25b8f97d5",
   "metadata": {
    "tags": []
   },
   "outputs": [],
   "source": [
    "#Cria lista dos top 2 players\n",
    "list_top_players = (\n",
    "    df\n",
    "    .filter(( F.col(\"wins\") + F.col(\"losses\") >= 20))\n",
    "    .withColumn(\"win_percentage\", F.col(\"wins\") / ( F.col(\"wins\") + F.col(\"losses\" )))\n",
    "    .withColumn(\"rn\", F.row_number().over(window_spec))\n",
    "    # .select(\"summonerId\", \"rank\",\"leaguePoints\",\"win_percentage\", \"wins\", \"losses\", \"rn\")\n",
    "    .select(\"summonerId\")\n",
    "    .filter(F.col(\"rn\") <= 2)\n",
    "    .rdd\n",
    "    .flatMap(lambda x: x)\n",
    "    .collect()\n",
    ")"
   ]
  },
  {
   "cell_type": "code",
   "execution_count": 58,
   "id": "8f3eda0e-2408-4180-ab1d-42027fb23425",
   "metadata": {
    "tags": []
   },
   "outputs": [
    {
     "data": {
      "text/plain": [
       "['4gfWwYGaQd3l0WBBSO5dTjfozf4n_2ubqg3CiyegTFrr1w',\n",
       " 'gTdA9kOKnY3439FvhhTyZpQOGSzAWWYsFj0C5eXysvV2fJk',\n",
       " 'S6mIk7bnYcth7wff1X4RGklcPUmbqBF9OaN_87eg6aOQHJU',\n",
       " 'cLNEYXDDA6kq1ntd1VjkfMg9umY1Su8spwTd2ShUanq1DoA',\n",
       " 'J1su2SOzNTjj5yIOZ_UeYxTnDpjAukgj9DwCJJy1gE1MqzE',\n",
       " 'mmiqBn1nXXiFlA2-huEcXOL8M_KT8L26Cu9ww5s6XXSgT0E']"
      ]
     },
     "execution_count": 58,
     "metadata": {},
     "output_type": "execute_result"
    }
   ],
   "source": [
    "list_top_players"
   ]
  },
  {
   "cell_type": "markdown",
   "id": "56f6cc59-6165-45e2-8577-e5c493e23931",
   "metadata": {},
   "source": [
    "#### COLUMNS & TYPES"
   ]
  },
  {
   "cell_type": "code",
   "execution_count": 14,
   "id": "3aa0cc9b-42ce-490d-ba17-461e65beacd3",
   "metadata": {
    "tags": []
   },
   "outputs": [
    {
     "data": {
      "text/plain": [
       "[('freshBlood', 'boolean'),\n",
       " ('hotStreak', 'boolean'),\n",
       " ('inactive', 'boolean'),\n",
       " ('leagueId', 'string'),\n",
       " ('leaguePoints', 'bigint'),\n",
       " ('losses', 'bigint'),\n",
       " ('queueType', 'string'),\n",
       " ('rank', 'string'),\n",
       " ('summonerId', 'string'),\n",
       " ('summonerName', 'string'),\n",
       " ('tier', 'string'),\n",
       " ('veteran', 'boolean'),\n",
       " ('wins', 'bigint')]"
      ]
     },
     "execution_count": 14,
     "metadata": {},
     "output_type": "execute_result"
    }
   ],
   "source": [
    "df.dtypes"
   ]
  },
  {
   "cell_type": "markdown",
   "id": "1142a5a0-637d-4e35-b829-ae0c83bc6fe8",
   "metadata": {},
   "source": [
    "#### NUMBER OF PLAYERS"
   ]
  },
  {
   "cell_type": "code",
   "execution_count": 24,
   "id": "ecee6782-ff30-4169-b6d6-d0f80699ddcc",
   "metadata": {
    "tags": []
   },
   "outputs": [
    {
     "data": {
      "text/plain": [
       "229310"
      ]
     },
     "execution_count": 24,
     "metadata": {},
     "output_type": "execute_result"
    }
   ],
   "source": [
    "df.select(F.countDistinct('summonerId')).collect()[0][0]"
   ]
  },
  {
   "cell_type": "markdown",
   "id": "e1360327-c139-42f1-accd-ab926fc7ecbe",
   "metadata": {},
   "source": [
    "#### % NULL VALUES"
   ]
  },
  {
   "cell_type": "code",
   "execution_count": 22,
   "id": "d01d26f5-9dc6-40f9-8092-33efad62b1ca",
   "metadata": {
    "tags": []
   },
   "outputs": [
    {
     "name": "stdout",
     "output_type": "stream",
     "text": [
      "Column 'freshBlood' has 0.00% null values\n",
      "Column 'hotStreak' has 0.00% null values\n",
      "Column 'inactive' has 0.00% null values\n",
      "Column 'leagueId' has 0.00% null values\n",
      "Column 'leaguePoints' has 0.00% null values\n",
      "Column 'losses' has 0.00% null values\n",
      "Column 'queueType' has 0.00% null values\n",
      "Column 'rank' has 0.00% null values\n",
      "Column 'summonerId' has 0.00% null values\n",
      "Column 'summonerName' has 0.00% null values\n",
      "Column 'tier' has 0.00% null values\n",
      "Column 'veteran' has 0.00% null values\n",
      "Column 'wins' has 0.00% null values\n"
     ]
    }
   ],
   "source": [
    "# Calculate the percentage of null values in each column\n",
    "total_rows = df.count()\n",
    "null_percentages = {}\n",
    "\n",
    "for column in df.columns:\n",
    "    column_type = dict(df.dtypes)[column]\n",
    "    if column_type in ['double','float','bigint']:\n",
    "        null_count = df.filter(F.col(column).isNull() | F.isnan(F.col(column))).count()\n",
    "    else:\n",
    "        null_count = df.filter(F.col(column).isNull()).count()\n",
    "                               \n",
    "    null_percentage = (null_count / total_rows) * 100\n",
    "    null_percentages[column] = null_percentage\n",
    "\n",
    "# Display the results\n",
    "for column, percentage in null_percentages.items():\n",
    "    print(f\"Column '{column}' has {percentage:.2f}% null values\")"
   ]
  },
  {
   "cell_type": "code",
   "execution_count": null,
   "id": "b42d4864-a690-47f3-9bdf-5b082225ca03",
   "metadata": {},
   "outputs": [],
   "source": []
  }
 ],
 "metadata": {
  "kernelspec": {
   "display_name": "Python 3 (ipykernel)",
   "language": "python",
   "name": "python3"
  },
  "language_info": {
   "codemirror_mode": {
    "name": "ipython",
    "version": 3
   },
   "file_extension": ".py",
   "mimetype": "text/x-python",
   "name": "python",
   "nbconvert_exporter": "python",
   "pygments_lexer": "ipython3",
   "version": "3.10.10"
  }
 },
 "nbformat": 4,
 "nbformat_minor": 5
}
